{
  "cells": [
    {
      "cell_type": "markdown",
      "metadata": {
        "id": "view-in-github",
        "colab_type": "text"
      },
      "source": [
        "<a href=\"https://colab.research.google.com/github/21Ovi/Heart-Disease-Classification/blob/main/Heart_Diesease_Prediction.ipynb\" target=\"_parent\"><img src=\"https://colab.research.google.com/assets/colab-badge.svg\" alt=\"Open In Colab\"/></a>"
      ]
    },
    {
      "cell_type": "markdown",
      "metadata": {
        "id": "0mX-U1DB7Mmj"
      },
      "source": [
        "# **PREDICTING HEART DISEASE**\n",
        "\n",
        "\n",
        "Heart disease is the number one cause of death worldwide, so if you're looking to use data science for good you've come to the right place. To learn how to prevent heart disease we must first learn to reliably detect it.\n",
        "Our dataset is from a study of heart disease that has been open to the public for many years. The study collects various measurements on patient health and cardiovascular statistics, and of course makes patient identities anonymous.\n",
        "\n",
        " \n",
        "**OVERVIEW :**\n",
        "\n",
        "* Preventing heart disease is important. Good data-driven systems for predicting heart disease can improve the entire research and prevention process, making sure that more people can live healthy lives.\n",
        "\n",
        "* In the United States, the Centers for Disease Control and Prevention is a good resource for information about heart disease.\n",
        "\n",
        "* \tAbout 610,000 people die of heart disease in the United States every year–that’s 1 in every 4 deaths, according to their website.\n",
        "\n",
        "* Heart disease is the leading cause of death for both men and women. More than half of the deaths due to heart disease in 2009 were in men.\n",
        "\n",
        "* Coronary heart disease (CHD) is the most common type of heart disease, killing over 370,000 people annually.\n",
        "\n",
        "* Every year about 735,000 Americans have a heart attack. Of these, 525,000 are a first heart attack and 210,000 happen in people who have already had a heart attack.\n",
        "\n",
        "* Heart disease is the leading cause of death for people of most ethnicities in the United States, including African Americans, Hispanics, and whites. \n",
        "\n",
        "* For American Indians or Alaska Natives and Asians or Pacific Islanders, heart disease is second only to cancer.\n",
        "\n",
        "**PROBLEM DESCRIPTION**\n",
        " \n",
        "To predict the heart_disease_present(binary class), which represents whether patient has heart disease or not.\n",
        "\n",
        "**FEATURES**\n",
        "* **heart_disease_present** - patient with heart disease\n",
        " * Type - Binary\n",
        "   * 0 - no heart disease present\n",
        "   * 1 - heart disease present\n",
        "\n",
        "There are 14 columns in the dataset, \n",
        "\n",
        "* **patient_id column** - unique and random identifier\n",
        "\n",
        "The remaining 13 features are described in the section below,\n",
        "\n",
        "*\t**slope_of_peak_exercise_st_segment** - quality of blood flow to the heart\n",
        "\n",
        "* **thal** - Thallium stress test measuring blood flow to the heart\n",
        " * Type - categorical\n",
        "   * normal\n",
        "   * fixed_effect\n",
        "   *  reversible_effect\n",
        "\n",
        "*\t**resting_blood_pressure** - resting blood pressure\n",
        " * Type - Integer\n",
        "\n",
        "* **chest_pain_type** - chest pain type (4 values)\n",
        " * Type - Interger\n",
        "     * 1\n",
        "     * 2\n",
        "     * 3\n",
        "     * 4\n",
        "\n",
        "\n",
        "* **num_major_vessels** - number of major vessels (0-3) colored by flourosopy\n",
        " * Type - Interger\n",
        "   * 0 - Arota \n",
        "   * 1 - vena cava\n",
        "   * 2 - pulmonary artery \n",
        "   * 3 - pulmonary vien \n",
        "\n",
        "* **fasting_blood_sugar_gt_120_mg_per_dl** - fasting blood sugar > 120 mg/dl\n",
        " * Type - Binary\n",
        "   * 0 - blood sugar range that will not affect heart (< 120 mg/dl)\n",
        "   * 1 - blood sugar range that will affect heart (> 120 mg/dl)\n",
        "\n",
        "* **resting_ekg_results** - resting electrocardiographic results\n",
        "  * Type - Integer\n",
        "    * 0 - normal\n",
        "    * 1 - has ST-T (preclinical cardiac involement)\n",
        "    * 2 - hypertrophy (maximum heart rate) \n",
        "\n",
        "* **serum_cholesterol_mg_per_dl** - serum cholestoral in mg/dl\n",
        "  * Type - Integer\n",
        "\n",
        "\n",
        "* **oldpeak_eq_st_depression** - oldpeak = ST depression induced by exercise relative to rest, a measure of abnormality in electrocardiograms\n",
        " * Type - Float\n",
        "\n",
        "* **sex** \n",
        " * Type - binary\n",
        "   * 0 - female\n",
        "   * 1 - male\n",
        "\n",
        "* **age** - Age in years\n",
        " \n",
        "  * Type - Integer\n",
        "\n",
        "* **max_heart_rate_achieved** -  maximum heart rate achieved \n",
        " * Type - Integer (Beats per minute)\n",
        "\n",
        "* **exercise_induced_angina** - pain in the chest that comes on with exercise, stress, or other things that make the heart work harder. \n",
        " *  Type- Binary\n",
        "       \n",
        "       * 0 - No chest pain\n",
        "\n",
        "       * 1 - chest pain\n",
        " "
      ]
    },
    {
      "cell_type": "markdown",
      "metadata": {
        "id": "GoZVYVrw-E2D"
      },
      "source": [
        "**PREPARING THE TOOLS**"
      ]
    },
    {
      "cell_type": "code",
      "execution_count": null,
      "metadata": {
        "id": "VvJxDXTjLN82"
      },
      "outputs": [],
      "source": [
        "# Import all the tools we need\n",
        "\n",
        "# Regular EDA(Exploratory data analysis) and plotting libraries\n",
        "import numpy as np\n",
        "import pandas as pd\n",
        "import matplotlib.pyplot as plt\n",
        "import seaborn as sns\n",
        "\n",
        "# plots to appear inside the notebook \n",
        "%matplotlib inline \n",
        "\n",
        "# Models from Scikit-Learn\n",
        "from sklearn.linear_model import LogisticRegression\n",
        "from sklearn.neighbors import KNeighborsClassifier\n",
        "from sklearn.ensemble import RandomForestClassifier\n",
        "\n",
        "# Model Evaluation\n",
        "from sklearn.model_selection import train_test_split, cross_val_score\n",
        "from sklearn.model_selection import RandomizedSearchCV, GridSearchCV\n",
        "from sklearn.metrics import confusion_matrix, classification_report\n",
        "from sklearn.metrics import precision_score, recall_score,f1_score\n",
        "from sklearn.metrics import plot_roc_curve\n",
        "\n",
        "# To ignore warnings \n",
        "import warnings \n",
        "warnings.filterwarnings('ignore')"
      ]
    },
    {
      "cell_type": "code",
      "execution_count": null,
      "metadata": {
        "id": "xENH_6BG7LXJ"
      },
      "outputs": [],
      "source": [
        "X = pd.read_csv(\"https://raw.githubusercontent.com/21Ovi/DataScience-DataSets/main/PRCP-1016-HeartDieseasePred/Data/values.csv\")\n",
        "Y = pd.read_csv(\"https://raw.githubusercontent.com/21Ovi/DataScience-DataSets/main/PRCP-1016-HeartDieseasePred/Data/labels.csv\")"
      ]
    },
    {
      "cell_type": "code",
      "execution_count": null,
      "metadata": {
        "colab": {
          "base_uri": "https://localhost:8080/",
          "height": 270
        },
        "id": "tCeaIdW07vm_",
        "outputId": "d175e8a9-e87f-44d2-f542-4cfd2daf2fe7"
      },
      "outputs": [
        {
          "data": {
            "text/html": [
              "\n",
              "  <div id=\"df-ca81d6cf-7e26-4491-b81e-e74b1d584af2\">\n",
              "    <div class=\"colab-df-container\">\n",
              "      <div>\n",
              "<style scoped>\n",
              "    .dataframe tbody tr th:only-of-type {\n",
              "        vertical-align: middle;\n",
              "    }\n",
              "\n",
              "    .dataframe tbody tr th {\n",
              "        vertical-align: top;\n",
              "    }\n",
              "\n",
              "    .dataframe thead th {\n",
              "        text-align: right;\n",
              "    }\n",
              "</style>\n",
              "<table border=\"1\" class=\"dataframe\">\n",
              "  <thead>\n",
              "    <tr style=\"text-align: right;\">\n",
              "      <th></th>\n",
              "      <th>patient_id</th>\n",
              "      <th>slope_of_peak_exercise_st_segment</th>\n",
              "      <th>thal</th>\n",
              "      <th>resting_blood_pressure</th>\n",
              "      <th>chest_pain_type</th>\n",
              "      <th>num_major_vessels</th>\n",
              "      <th>fasting_blood_sugar_gt_120_mg_per_dl</th>\n",
              "      <th>resting_ekg_results</th>\n",
              "      <th>serum_cholesterol_mg_per_dl</th>\n",
              "      <th>oldpeak_eq_st_depression</th>\n",
              "      <th>sex</th>\n",
              "      <th>age</th>\n",
              "      <th>max_heart_rate_achieved</th>\n",
              "      <th>exercise_induced_angina</th>\n",
              "    </tr>\n",
              "  </thead>\n",
              "  <tbody>\n",
              "    <tr>\n",
              "      <th>0</th>\n",
              "      <td>0z64un</td>\n",
              "      <td>1</td>\n",
              "      <td>normal</td>\n",
              "      <td>128</td>\n",
              "      <td>2</td>\n",
              "      <td>0</td>\n",
              "      <td>0</td>\n",
              "      <td>2</td>\n",
              "      <td>308</td>\n",
              "      <td>0.0</td>\n",
              "      <td>1</td>\n",
              "      <td>45</td>\n",
              "      <td>170</td>\n",
              "      <td>0</td>\n",
              "    </tr>\n",
              "    <tr>\n",
              "      <th>1</th>\n",
              "      <td>ryoo3j</td>\n",
              "      <td>2</td>\n",
              "      <td>normal</td>\n",
              "      <td>110</td>\n",
              "      <td>3</td>\n",
              "      <td>0</td>\n",
              "      <td>0</td>\n",
              "      <td>0</td>\n",
              "      <td>214</td>\n",
              "      <td>1.6</td>\n",
              "      <td>0</td>\n",
              "      <td>54</td>\n",
              "      <td>158</td>\n",
              "      <td>0</td>\n",
              "    </tr>\n",
              "    <tr>\n",
              "      <th>2</th>\n",
              "      <td>yt1s1x</td>\n",
              "      <td>1</td>\n",
              "      <td>normal</td>\n",
              "      <td>125</td>\n",
              "      <td>4</td>\n",
              "      <td>3</td>\n",
              "      <td>0</td>\n",
              "      <td>2</td>\n",
              "      <td>304</td>\n",
              "      <td>0.0</td>\n",
              "      <td>1</td>\n",
              "      <td>77</td>\n",
              "      <td>162</td>\n",
              "      <td>1</td>\n",
              "    </tr>\n",
              "    <tr>\n",
              "      <th>3</th>\n",
              "      <td>l2xjde</td>\n",
              "      <td>1</td>\n",
              "      <td>reversible_defect</td>\n",
              "      <td>152</td>\n",
              "      <td>4</td>\n",
              "      <td>0</td>\n",
              "      <td>0</td>\n",
              "      <td>0</td>\n",
              "      <td>223</td>\n",
              "      <td>0.0</td>\n",
              "      <td>1</td>\n",
              "      <td>40</td>\n",
              "      <td>181</td>\n",
              "      <td>0</td>\n",
              "    </tr>\n",
              "    <tr>\n",
              "      <th>4</th>\n",
              "      <td>oyt4ek</td>\n",
              "      <td>3</td>\n",
              "      <td>reversible_defect</td>\n",
              "      <td>178</td>\n",
              "      <td>1</td>\n",
              "      <td>0</td>\n",
              "      <td>0</td>\n",
              "      <td>2</td>\n",
              "      <td>270</td>\n",
              "      <td>4.2</td>\n",
              "      <td>1</td>\n",
              "      <td>59</td>\n",
              "      <td>145</td>\n",
              "      <td>0</td>\n",
              "    </tr>\n",
              "  </tbody>\n",
              "</table>\n",
              "</div>\n",
              "      <button class=\"colab-df-convert\" onclick=\"convertToInteractive('df-ca81d6cf-7e26-4491-b81e-e74b1d584af2')\"\n",
              "              title=\"Convert this dataframe to an interactive table.\"\n",
              "              style=\"display:none;\">\n",
              "        \n",
              "  <svg xmlns=\"http://www.w3.org/2000/svg\" height=\"24px\"viewBox=\"0 0 24 24\"\n",
              "       width=\"24px\">\n",
              "    <path d=\"M0 0h24v24H0V0z\" fill=\"none\"/>\n",
              "    <path d=\"M18.56 5.44l.94 2.06.94-2.06 2.06-.94-2.06-.94-.94-2.06-.94 2.06-2.06.94zm-11 1L8.5 8.5l.94-2.06 2.06-.94-2.06-.94L8.5 2.5l-.94 2.06-2.06.94zm10 10l.94 2.06.94-2.06 2.06-.94-2.06-.94-.94-2.06-.94 2.06-2.06.94z\"/><path d=\"M17.41 7.96l-1.37-1.37c-.4-.4-.92-.59-1.43-.59-.52 0-1.04.2-1.43.59L10.3 9.45l-7.72 7.72c-.78.78-.78 2.05 0 2.83L4 21.41c.39.39.9.59 1.41.59.51 0 1.02-.2 1.41-.59l7.78-7.78 2.81-2.81c.8-.78.8-2.07 0-2.86zM5.41 20L4 18.59l7.72-7.72 1.47 1.35L5.41 20z\"/>\n",
              "  </svg>\n",
              "      </button>\n",
              "      \n",
              "  <style>\n",
              "    .colab-df-container {\n",
              "      display:flex;\n",
              "      flex-wrap:wrap;\n",
              "      gap: 12px;\n",
              "    }\n",
              "\n",
              "    .colab-df-convert {\n",
              "      background-color: #E8F0FE;\n",
              "      border: none;\n",
              "      border-radius: 50%;\n",
              "      cursor: pointer;\n",
              "      display: none;\n",
              "      fill: #1967D2;\n",
              "      height: 32px;\n",
              "      padding: 0 0 0 0;\n",
              "      width: 32px;\n",
              "    }\n",
              "\n",
              "    .colab-df-convert:hover {\n",
              "      background-color: #E2EBFA;\n",
              "      box-shadow: 0px 1px 2px rgba(60, 64, 67, 0.3), 0px 1px 3px 1px rgba(60, 64, 67, 0.15);\n",
              "      fill: #174EA6;\n",
              "    }\n",
              "\n",
              "    [theme=dark] .colab-df-convert {\n",
              "      background-color: #3B4455;\n",
              "      fill: #D2E3FC;\n",
              "    }\n",
              "\n",
              "    [theme=dark] .colab-df-convert:hover {\n",
              "      background-color: #434B5C;\n",
              "      box-shadow: 0px 1px 3px 1px rgba(0, 0, 0, 0.15);\n",
              "      filter: drop-shadow(0px 1px 2px rgba(0, 0, 0, 0.3));\n",
              "      fill: #FFFFFF;\n",
              "    }\n",
              "  </style>\n",
              "\n",
              "      <script>\n",
              "        const buttonEl =\n",
              "          document.querySelector('#df-ca81d6cf-7e26-4491-b81e-e74b1d584af2 button.colab-df-convert');\n",
              "        buttonEl.style.display =\n",
              "          google.colab.kernel.accessAllowed ? 'block' : 'none';\n",
              "\n",
              "        async function convertToInteractive(key) {\n",
              "          const element = document.querySelector('#df-ca81d6cf-7e26-4491-b81e-e74b1d584af2');\n",
              "          const dataTable =\n",
              "            await google.colab.kernel.invokeFunction('convertToInteractive',\n",
              "                                                     [key], {});\n",
              "          if (!dataTable) return;\n",
              "\n",
              "          const docLinkHtml = 'Like what you see? Visit the ' +\n",
              "            '<a target=\"_blank\" href=https://colab.research.google.com/notebooks/data_table.ipynb>data table notebook</a>'\n",
              "            + ' to learn more about interactive tables.';\n",
              "          element.innerHTML = '';\n",
              "          dataTable['output_type'] = 'display_data';\n",
              "          await google.colab.output.renderOutput(dataTable, element);\n",
              "          const docLink = document.createElement('div');\n",
              "          docLink.innerHTML = docLinkHtml;\n",
              "          element.appendChild(docLink);\n",
              "        }\n",
              "      </script>\n",
              "    </div>\n",
              "  </div>\n",
              "  "
            ],
            "text/plain": [
              "  patient_id  slope_of_peak_exercise_st_segment               thal  \\\n",
              "0     0z64un                                  1             normal   \n",
              "1     ryoo3j                                  2             normal   \n",
              "2     yt1s1x                                  1             normal   \n",
              "3     l2xjde                                  1  reversible_defect   \n",
              "4     oyt4ek                                  3  reversible_defect   \n",
              "\n",
              "   resting_blood_pressure  chest_pain_type  num_major_vessels  \\\n",
              "0                     128                2                  0   \n",
              "1                     110                3                  0   \n",
              "2                     125                4                  3   \n",
              "3                     152                4                  0   \n",
              "4                     178                1                  0   \n",
              "\n",
              "   fasting_blood_sugar_gt_120_mg_per_dl  resting_ekg_results  \\\n",
              "0                                     0                    2   \n",
              "1                                     0                    0   \n",
              "2                                     0                    2   \n",
              "3                                     0                    0   \n",
              "4                                     0                    2   \n",
              "\n",
              "   serum_cholesterol_mg_per_dl  oldpeak_eq_st_depression  sex  age  \\\n",
              "0                          308                       0.0    1   45   \n",
              "1                          214                       1.6    0   54   \n",
              "2                          304                       0.0    1   77   \n",
              "3                          223                       0.0    1   40   \n",
              "4                          270                       4.2    1   59   \n",
              "\n",
              "   max_heart_rate_achieved  exercise_induced_angina  \n",
              "0                      170                        0  \n",
              "1                      158                        0  \n",
              "2                      162                        1  \n",
              "3                      181                        0  \n",
              "4                      145                        0  "
            ]
          },
          "execution_count": 5,
          "metadata": {},
          "output_type": "execute_result"
        }
      ],
      "source": [
        "X.head()"
      ]
    },
    {
      "cell_type": "code",
      "execution_count": null,
      "metadata": {
        "colab": {
          "base_uri": "https://localhost:8080/",
          "height": 206
        },
        "id": "6bqb--fC74Qq",
        "outputId": "bcf2102a-5bdd-40ad-9958-2100d3b0df34"
      },
      "outputs": [
        {
          "data": {
            "text/html": [
              "\n",
              "  <div id=\"df-221e7033-a28c-4215-b317-b3db5b0cbc06\">\n",
              "    <div class=\"colab-df-container\">\n",
              "      <div>\n",
              "<style scoped>\n",
              "    .dataframe tbody tr th:only-of-type {\n",
              "        vertical-align: middle;\n",
              "    }\n",
              "\n",
              "    .dataframe tbody tr th {\n",
              "        vertical-align: top;\n",
              "    }\n",
              "\n",
              "    .dataframe thead th {\n",
              "        text-align: right;\n",
              "    }\n",
              "</style>\n",
              "<table border=\"1\" class=\"dataframe\">\n",
              "  <thead>\n",
              "    <tr style=\"text-align: right;\">\n",
              "      <th></th>\n",
              "      <th>patient_id</th>\n",
              "      <th>heart_disease_present</th>\n",
              "    </tr>\n",
              "  </thead>\n",
              "  <tbody>\n",
              "    <tr>\n",
              "      <th>0</th>\n",
              "      <td>0z64un</td>\n",
              "      <td>0</td>\n",
              "    </tr>\n",
              "    <tr>\n",
              "      <th>1</th>\n",
              "      <td>ryoo3j</td>\n",
              "      <td>0</td>\n",
              "    </tr>\n",
              "    <tr>\n",
              "      <th>2</th>\n",
              "      <td>yt1s1x</td>\n",
              "      <td>1</td>\n",
              "    </tr>\n",
              "    <tr>\n",
              "      <th>3</th>\n",
              "      <td>l2xjde</td>\n",
              "      <td>1</td>\n",
              "    </tr>\n",
              "    <tr>\n",
              "      <th>4</th>\n",
              "      <td>oyt4ek</td>\n",
              "      <td>0</td>\n",
              "    </tr>\n",
              "  </tbody>\n",
              "</table>\n",
              "</div>\n",
              "      <button class=\"colab-df-convert\" onclick=\"convertToInteractive('df-221e7033-a28c-4215-b317-b3db5b0cbc06')\"\n",
              "              title=\"Convert this dataframe to an interactive table.\"\n",
              "              style=\"display:none;\">\n",
              "        \n",
              "  <svg xmlns=\"http://www.w3.org/2000/svg\" height=\"24px\"viewBox=\"0 0 24 24\"\n",
              "       width=\"24px\">\n",
              "    <path d=\"M0 0h24v24H0V0z\" fill=\"none\"/>\n",
              "    <path d=\"M18.56 5.44l.94 2.06.94-2.06 2.06-.94-2.06-.94-.94-2.06-.94 2.06-2.06.94zm-11 1L8.5 8.5l.94-2.06 2.06-.94-2.06-.94L8.5 2.5l-.94 2.06-2.06.94zm10 10l.94 2.06.94-2.06 2.06-.94-2.06-.94-.94-2.06-.94 2.06-2.06.94z\"/><path d=\"M17.41 7.96l-1.37-1.37c-.4-.4-.92-.59-1.43-.59-.52 0-1.04.2-1.43.59L10.3 9.45l-7.72 7.72c-.78.78-.78 2.05 0 2.83L4 21.41c.39.39.9.59 1.41.59.51 0 1.02-.2 1.41-.59l7.78-7.78 2.81-2.81c.8-.78.8-2.07 0-2.86zM5.41 20L4 18.59l7.72-7.72 1.47 1.35L5.41 20z\"/>\n",
              "  </svg>\n",
              "      </button>\n",
              "      \n",
              "  <style>\n",
              "    .colab-df-container {\n",
              "      display:flex;\n",
              "      flex-wrap:wrap;\n",
              "      gap: 12px;\n",
              "    }\n",
              "\n",
              "    .colab-df-convert {\n",
              "      background-color: #E8F0FE;\n",
              "      border: none;\n",
              "      border-radius: 50%;\n",
              "      cursor: pointer;\n",
              "      display: none;\n",
              "      fill: #1967D2;\n",
              "      height: 32px;\n",
              "      padding: 0 0 0 0;\n",
              "      width: 32px;\n",
              "    }\n",
              "\n",
              "    .colab-df-convert:hover {\n",
              "      background-color: #E2EBFA;\n",
              "      box-shadow: 0px 1px 2px rgba(60, 64, 67, 0.3), 0px 1px 3px 1px rgba(60, 64, 67, 0.15);\n",
              "      fill: #174EA6;\n",
              "    }\n",
              "\n",
              "    [theme=dark] .colab-df-convert {\n",
              "      background-color: #3B4455;\n",
              "      fill: #D2E3FC;\n",
              "    }\n",
              "\n",
              "    [theme=dark] .colab-df-convert:hover {\n",
              "      background-color: #434B5C;\n",
              "      box-shadow: 0px 1px 3px 1px rgba(0, 0, 0, 0.15);\n",
              "      filter: drop-shadow(0px 1px 2px rgba(0, 0, 0, 0.3));\n",
              "      fill: #FFFFFF;\n",
              "    }\n",
              "  </style>\n",
              "\n",
              "      <script>\n",
              "        const buttonEl =\n",
              "          document.querySelector('#df-221e7033-a28c-4215-b317-b3db5b0cbc06 button.colab-df-convert');\n",
              "        buttonEl.style.display =\n",
              "          google.colab.kernel.accessAllowed ? 'block' : 'none';\n",
              "\n",
              "        async function convertToInteractive(key) {\n",
              "          const element = document.querySelector('#df-221e7033-a28c-4215-b317-b3db5b0cbc06');\n",
              "          const dataTable =\n",
              "            await google.colab.kernel.invokeFunction('convertToInteractive',\n",
              "                                                     [key], {});\n",
              "          if (!dataTable) return;\n",
              "\n",
              "          const docLinkHtml = 'Like what you see? Visit the ' +\n",
              "            '<a target=\"_blank\" href=https://colab.research.google.com/notebooks/data_table.ipynb>data table notebook</a>'\n",
              "            + ' to learn more about interactive tables.';\n",
              "          element.innerHTML = '';\n",
              "          dataTable['output_type'] = 'display_data';\n",
              "          await google.colab.output.renderOutput(dataTable, element);\n",
              "          const docLink = document.createElement('div');\n",
              "          docLink.innerHTML = docLinkHtml;\n",
              "          element.appendChild(docLink);\n",
              "        }\n",
              "      </script>\n",
              "    </div>\n",
              "  </div>\n",
              "  "
            ],
            "text/plain": [
              "  patient_id  heart_disease_present\n",
              "0     0z64un                      0\n",
              "1     ryoo3j                      0\n",
              "2     yt1s1x                      1\n",
              "3     l2xjde                      1\n",
              "4     oyt4ek                      0"
            ]
          },
          "execution_count": 6,
          "metadata": {},
          "output_type": "execute_result"
        }
      ],
      "source": [
        "Y.head()"
      ]
    },
    {
      "cell_type": "code",
      "execution_count": null,
      "metadata": {
        "colab": {
          "base_uri": "https://localhost:8080/",
          "height": 488
        },
        "id": "LA5Z2davC-9X",
        "outputId": "1e240abf-6a3d-4e73-a6dc-9d3b84b356dc"
      },
      "outputs": [
        {
          "data": {
            "text/html": [
              "\n",
              "  <div id=\"df-51fd7cc8-439f-4ab6-8655-f92bb9415d17\">\n",
              "    <div class=\"colab-df-container\">\n",
              "      <div>\n",
              "<style scoped>\n",
              "    .dataframe tbody tr th:only-of-type {\n",
              "        vertical-align: middle;\n",
              "    }\n",
              "\n",
              "    .dataframe tbody tr th {\n",
              "        vertical-align: top;\n",
              "    }\n",
              "\n",
              "    .dataframe thead th {\n",
              "        text-align: right;\n",
              "    }\n",
              "</style>\n",
              "<table border=\"1\" class=\"dataframe\">\n",
              "  <thead>\n",
              "    <tr style=\"text-align: right;\">\n",
              "      <th></th>\n",
              "      <th>0</th>\n",
              "      <th>1</th>\n",
              "      <th>2</th>\n",
              "      <th>3</th>\n",
              "      <th>4</th>\n",
              "    </tr>\n",
              "  </thead>\n",
              "  <tbody>\n",
              "    <tr>\n",
              "      <th>patient_id</th>\n",
              "      <td>0z64un</td>\n",
              "      <td>ryoo3j</td>\n",
              "      <td>yt1s1x</td>\n",
              "      <td>l2xjde</td>\n",
              "      <td>oyt4ek</td>\n",
              "    </tr>\n",
              "    <tr>\n",
              "      <th>slope_of_peak_exercise_st_segment</th>\n",
              "      <td>1</td>\n",
              "      <td>2</td>\n",
              "      <td>1</td>\n",
              "      <td>1</td>\n",
              "      <td>3</td>\n",
              "    </tr>\n",
              "    <tr>\n",
              "      <th>thal</th>\n",
              "      <td>normal</td>\n",
              "      <td>normal</td>\n",
              "      <td>normal</td>\n",
              "      <td>reversible_defect</td>\n",
              "      <td>reversible_defect</td>\n",
              "    </tr>\n",
              "    <tr>\n",
              "      <th>resting_blood_pressure</th>\n",
              "      <td>128</td>\n",
              "      <td>110</td>\n",
              "      <td>125</td>\n",
              "      <td>152</td>\n",
              "      <td>178</td>\n",
              "    </tr>\n",
              "    <tr>\n",
              "      <th>chest_pain_type</th>\n",
              "      <td>2</td>\n",
              "      <td>3</td>\n",
              "      <td>4</td>\n",
              "      <td>4</td>\n",
              "      <td>1</td>\n",
              "    </tr>\n",
              "    <tr>\n",
              "      <th>num_major_vessels</th>\n",
              "      <td>0</td>\n",
              "      <td>0</td>\n",
              "      <td>3</td>\n",
              "      <td>0</td>\n",
              "      <td>0</td>\n",
              "    </tr>\n",
              "    <tr>\n",
              "      <th>fasting_blood_sugar_gt_120_mg_per_dl</th>\n",
              "      <td>0</td>\n",
              "      <td>0</td>\n",
              "      <td>0</td>\n",
              "      <td>0</td>\n",
              "      <td>0</td>\n",
              "    </tr>\n",
              "    <tr>\n",
              "      <th>resting_ekg_results</th>\n",
              "      <td>2</td>\n",
              "      <td>0</td>\n",
              "      <td>2</td>\n",
              "      <td>0</td>\n",
              "      <td>2</td>\n",
              "    </tr>\n",
              "    <tr>\n",
              "      <th>serum_cholesterol_mg_per_dl</th>\n",
              "      <td>308</td>\n",
              "      <td>214</td>\n",
              "      <td>304</td>\n",
              "      <td>223</td>\n",
              "      <td>270</td>\n",
              "    </tr>\n",
              "    <tr>\n",
              "      <th>oldpeak_eq_st_depression</th>\n",
              "      <td>0.0</td>\n",
              "      <td>1.6</td>\n",
              "      <td>0.0</td>\n",
              "      <td>0.0</td>\n",
              "      <td>4.2</td>\n",
              "    </tr>\n",
              "    <tr>\n",
              "      <th>sex</th>\n",
              "      <td>1</td>\n",
              "      <td>0</td>\n",
              "      <td>1</td>\n",
              "      <td>1</td>\n",
              "      <td>1</td>\n",
              "    </tr>\n",
              "    <tr>\n",
              "      <th>age</th>\n",
              "      <td>45</td>\n",
              "      <td>54</td>\n",
              "      <td>77</td>\n",
              "      <td>40</td>\n",
              "      <td>59</td>\n",
              "    </tr>\n",
              "    <tr>\n",
              "      <th>max_heart_rate_achieved</th>\n",
              "      <td>170</td>\n",
              "      <td>158</td>\n",
              "      <td>162</td>\n",
              "      <td>181</td>\n",
              "      <td>145</td>\n",
              "    </tr>\n",
              "    <tr>\n",
              "      <th>exercise_induced_angina</th>\n",
              "      <td>0</td>\n",
              "      <td>0</td>\n",
              "      <td>1</td>\n",
              "      <td>0</td>\n",
              "      <td>0</td>\n",
              "    </tr>\n",
              "  </tbody>\n",
              "</table>\n",
              "</div>\n",
              "      <button class=\"colab-df-convert\" onclick=\"convertToInteractive('df-51fd7cc8-439f-4ab6-8655-f92bb9415d17')\"\n",
              "              title=\"Convert this dataframe to an interactive table.\"\n",
              "              style=\"display:none;\">\n",
              "        \n",
              "  <svg xmlns=\"http://www.w3.org/2000/svg\" height=\"24px\"viewBox=\"0 0 24 24\"\n",
              "       width=\"24px\">\n",
              "    <path d=\"M0 0h24v24H0V0z\" fill=\"none\"/>\n",
              "    <path d=\"M18.56 5.44l.94 2.06.94-2.06 2.06-.94-2.06-.94-.94-2.06-.94 2.06-2.06.94zm-11 1L8.5 8.5l.94-2.06 2.06-.94-2.06-.94L8.5 2.5l-.94 2.06-2.06.94zm10 10l.94 2.06.94-2.06 2.06-.94-2.06-.94-.94-2.06-.94 2.06-2.06.94z\"/><path d=\"M17.41 7.96l-1.37-1.37c-.4-.4-.92-.59-1.43-.59-.52 0-1.04.2-1.43.59L10.3 9.45l-7.72 7.72c-.78.78-.78 2.05 0 2.83L4 21.41c.39.39.9.59 1.41.59.51 0 1.02-.2 1.41-.59l7.78-7.78 2.81-2.81c.8-.78.8-2.07 0-2.86zM5.41 20L4 18.59l7.72-7.72 1.47 1.35L5.41 20z\"/>\n",
              "  </svg>\n",
              "      </button>\n",
              "      \n",
              "  <style>\n",
              "    .colab-df-container {\n",
              "      display:flex;\n",
              "      flex-wrap:wrap;\n",
              "      gap: 12px;\n",
              "    }\n",
              "\n",
              "    .colab-df-convert {\n",
              "      background-color: #E8F0FE;\n",
              "      border: none;\n",
              "      border-radius: 50%;\n",
              "      cursor: pointer;\n",
              "      display: none;\n",
              "      fill: #1967D2;\n",
              "      height: 32px;\n",
              "      padding: 0 0 0 0;\n",
              "      width: 32px;\n",
              "    }\n",
              "\n",
              "    .colab-df-convert:hover {\n",
              "      background-color: #E2EBFA;\n",
              "      box-shadow: 0px 1px 2px rgba(60, 64, 67, 0.3), 0px 1px 3px 1px rgba(60, 64, 67, 0.15);\n",
              "      fill: #174EA6;\n",
              "    }\n",
              "\n",
              "    [theme=dark] .colab-df-convert {\n",
              "      background-color: #3B4455;\n",
              "      fill: #D2E3FC;\n",
              "    }\n",
              "\n",
              "    [theme=dark] .colab-df-convert:hover {\n",
              "      background-color: #434B5C;\n",
              "      box-shadow: 0px 1px 3px 1px rgba(0, 0, 0, 0.15);\n",
              "      filter: drop-shadow(0px 1px 2px rgba(0, 0, 0, 0.3));\n",
              "      fill: #FFFFFF;\n",
              "    }\n",
              "  </style>\n",
              "\n",
              "      <script>\n",
              "        const buttonEl =\n",
              "          document.querySelector('#df-51fd7cc8-439f-4ab6-8655-f92bb9415d17 button.colab-df-convert');\n",
              "        buttonEl.style.display =\n",
              "          google.colab.kernel.accessAllowed ? 'block' : 'none';\n",
              "\n",
              "        async function convertToInteractive(key) {\n",
              "          const element = document.querySelector('#df-51fd7cc8-439f-4ab6-8655-f92bb9415d17');\n",
              "          const dataTable =\n",
              "            await google.colab.kernel.invokeFunction('convertToInteractive',\n",
              "                                                     [key], {});\n",
              "          if (!dataTable) return;\n",
              "\n",
              "          const docLinkHtml = 'Like what you see? Visit the ' +\n",
              "            '<a target=\"_blank\" href=https://colab.research.google.com/notebooks/data_table.ipynb>data table notebook</a>'\n",
              "            + ' to learn more about interactive tables.';\n",
              "          element.innerHTML = '';\n",
              "          dataTable['output_type'] = 'display_data';\n",
              "          await google.colab.output.renderOutput(dataTable, element);\n",
              "          const docLink = document.createElement('div');\n",
              "          docLink.innerHTML = docLinkHtml;\n",
              "          element.appendChild(docLink);\n",
              "        }\n",
              "      </script>\n",
              "    </div>\n",
              "  </div>\n",
              "  "
            ],
            "text/plain": [
              "                                           0       1       2  \\\n",
              "patient_id                            0z64un  ryoo3j  yt1s1x   \n",
              "slope_of_peak_exercise_st_segment          1       2       1   \n",
              "thal                                  normal  normal  normal   \n",
              "resting_blood_pressure                   128     110     125   \n",
              "chest_pain_type                            2       3       4   \n",
              "num_major_vessels                          0       0       3   \n",
              "fasting_blood_sugar_gt_120_mg_per_dl       0       0       0   \n",
              "resting_ekg_results                        2       0       2   \n",
              "serum_cholesterol_mg_per_dl              308     214     304   \n",
              "oldpeak_eq_st_depression                 0.0     1.6     0.0   \n",
              "sex                                        1       0       1   \n",
              "age                                       45      54      77   \n",
              "max_heart_rate_achieved                  170     158     162   \n",
              "exercise_induced_angina                    0       0       1   \n",
              "\n",
              "                                                      3                  4  \n",
              "patient_id                                       l2xjde             oyt4ek  \n",
              "slope_of_peak_exercise_st_segment                     1                  3  \n",
              "thal                                  reversible_defect  reversible_defect  \n",
              "resting_blood_pressure                              152                178  \n",
              "chest_pain_type                                       4                  1  \n",
              "num_major_vessels                                     0                  0  \n",
              "fasting_blood_sugar_gt_120_mg_per_dl                  0                  0  \n",
              "resting_ekg_results                                   0                  2  \n",
              "serum_cholesterol_mg_per_dl                         223                270  \n",
              "oldpeak_eq_st_depression                            0.0                4.2  \n",
              "sex                                                   1                  1  \n",
              "age                                                  40                 59  \n",
              "max_heart_rate_achieved                             181                145  \n",
              "exercise_induced_angina                               0                  0  "
            ]
          },
          "execution_count": 7,
          "metadata": {},
          "output_type": "execute_result"
        }
      ],
      "source": [
        "X.head().T"
      ]
    },
    {
      "cell_type": "code",
      "execution_count": null,
      "metadata": {
        "colab": {
          "base_uri": "https://localhost:8080/",
          "height": 112
        },
        "id": "b-jryM33E_wO",
        "outputId": "9148eb78-81bf-411a-c92b-ab9731479fc5"
      },
      "outputs": [
        {
          "data": {
            "text/html": [
              "\n",
              "  <div id=\"df-7db478ac-cbb2-488d-9776-3dab6b17bbd7\">\n",
              "    <div class=\"colab-df-container\">\n",
              "      <div>\n",
              "<style scoped>\n",
              "    .dataframe tbody tr th:only-of-type {\n",
              "        vertical-align: middle;\n",
              "    }\n",
              "\n",
              "    .dataframe tbody tr th {\n",
              "        vertical-align: top;\n",
              "    }\n",
              "\n",
              "    .dataframe thead th {\n",
              "        text-align: right;\n",
              "    }\n",
              "</style>\n",
              "<table border=\"1\" class=\"dataframe\">\n",
              "  <thead>\n",
              "    <tr style=\"text-align: right;\">\n",
              "      <th></th>\n",
              "      <th>0</th>\n",
              "      <th>1</th>\n",
              "      <th>2</th>\n",
              "      <th>3</th>\n",
              "      <th>4</th>\n",
              "    </tr>\n",
              "  </thead>\n",
              "  <tbody>\n",
              "    <tr>\n",
              "      <th>patient_id</th>\n",
              "      <td>0z64un</td>\n",
              "      <td>ryoo3j</td>\n",
              "      <td>yt1s1x</td>\n",
              "      <td>l2xjde</td>\n",
              "      <td>oyt4ek</td>\n",
              "    </tr>\n",
              "    <tr>\n",
              "      <th>heart_disease_present</th>\n",
              "      <td>0</td>\n",
              "      <td>0</td>\n",
              "      <td>1</td>\n",
              "      <td>1</td>\n",
              "      <td>0</td>\n",
              "    </tr>\n",
              "  </tbody>\n",
              "</table>\n",
              "</div>\n",
              "      <button class=\"colab-df-convert\" onclick=\"convertToInteractive('df-7db478ac-cbb2-488d-9776-3dab6b17bbd7')\"\n",
              "              title=\"Convert this dataframe to an interactive table.\"\n",
              "              style=\"display:none;\">\n",
              "        \n",
              "  <svg xmlns=\"http://www.w3.org/2000/svg\" height=\"24px\"viewBox=\"0 0 24 24\"\n",
              "       width=\"24px\">\n",
              "    <path d=\"M0 0h24v24H0V0z\" fill=\"none\"/>\n",
              "    <path d=\"M18.56 5.44l.94 2.06.94-2.06 2.06-.94-2.06-.94-.94-2.06-.94 2.06-2.06.94zm-11 1L8.5 8.5l.94-2.06 2.06-.94-2.06-.94L8.5 2.5l-.94 2.06-2.06.94zm10 10l.94 2.06.94-2.06 2.06-.94-2.06-.94-.94-2.06-.94 2.06-2.06.94z\"/><path d=\"M17.41 7.96l-1.37-1.37c-.4-.4-.92-.59-1.43-.59-.52 0-1.04.2-1.43.59L10.3 9.45l-7.72 7.72c-.78.78-.78 2.05 0 2.83L4 21.41c.39.39.9.59 1.41.59.51 0 1.02-.2 1.41-.59l7.78-7.78 2.81-2.81c.8-.78.8-2.07 0-2.86zM5.41 20L4 18.59l7.72-7.72 1.47 1.35L5.41 20z\"/>\n",
              "  </svg>\n",
              "      </button>\n",
              "      \n",
              "  <style>\n",
              "    .colab-df-container {\n",
              "      display:flex;\n",
              "      flex-wrap:wrap;\n",
              "      gap: 12px;\n",
              "    }\n",
              "\n",
              "    .colab-df-convert {\n",
              "      background-color: #E8F0FE;\n",
              "      border: none;\n",
              "      border-radius: 50%;\n",
              "      cursor: pointer;\n",
              "      display: none;\n",
              "      fill: #1967D2;\n",
              "      height: 32px;\n",
              "      padding: 0 0 0 0;\n",
              "      width: 32px;\n",
              "    }\n",
              "\n",
              "    .colab-df-convert:hover {\n",
              "      background-color: #E2EBFA;\n",
              "      box-shadow: 0px 1px 2px rgba(60, 64, 67, 0.3), 0px 1px 3px 1px rgba(60, 64, 67, 0.15);\n",
              "      fill: #174EA6;\n",
              "    }\n",
              "\n",
              "    [theme=dark] .colab-df-convert {\n",
              "      background-color: #3B4455;\n",
              "      fill: #D2E3FC;\n",
              "    }\n",
              "\n",
              "    [theme=dark] .colab-df-convert:hover {\n",
              "      background-color: #434B5C;\n",
              "      box-shadow: 0px 1px 3px 1px rgba(0, 0, 0, 0.15);\n",
              "      filter: drop-shadow(0px 1px 2px rgba(0, 0, 0, 0.3));\n",
              "      fill: #FFFFFF;\n",
              "    }\n",
              "  </style>\n",
              "\n",
              "      <script>\n",
              "        const buttonEl =\n",
              "          document.querySelector('#df-7db478ac-cbb2-488d-9776-3dab6b17bbd7 button.colab-df-convert');\n",
              "        buttonEl.style.display =\n",
              "          google.colab.kernel.accessAllowed ? 'block' : 'none';\n",
              "\n",
              "        async function convertToInteractive(key) {\n",
              "          const element = document.querySelector('#df-7db478ac-cbb2-488d-9776-3dab6b17bbd7');\n",
              "          const dataTable =\n",
              "            await google.colab.kernel.invokeFunction('convertToInteractive',\n",
              "                                                     [key], {});\n",
              "          if (!dataTable) return;\n",
              "\n",
              "          const docLinkHtml = 'Like what you see? Visit the ' +\n",
              "            '<a target=\"_blank\" href=https://colab.research.google.com/notebooks/data_table.ipynb>data table notebook</a>'\n",
              "            + ' to learn more about interactive tables.';\n",
              "          element.innerHTML = '';\n",
              "          dataTable['output_type'] = 'display_data';\n",
              "          await google.colab.output.renderOutput(dataTable, element);\n",
              "          const docLink = document.createElement('div');\n",
              "          docLink.innerHTML = docLinkHtml;\n",
              "          element.appendChild(docLink);\n",
              "        }\n",
              "      </script>\n",
              "    </div>\n",
              "  </div>\n",
              "  "
            ],
            "text/plain": [
              "                            0       1       2       3       4\n",
              "patient_id             0z64un  ryoo3j  yt1s1x  l2xjde  oyt4ek\n",
              "heart_disease_present       0       0       1       1       0"
            ]
          },
          "execution_count": 8,
          "metadata": {},
          "output_type": "execute_result"
        }
      ],
      "source": [
        "Y.head().T"
      ]
    },
    {
      "cell_type": "markdown",
      "metadata": {
        "id": "3cEftG6YFlDd"
      },
      "source": [
        "# **BASIC CHECKS**"
      ]
    },
    {
      "cell_type": "markdown",
      "metadata": {
        "id": "7FU3qRPVGFb6"
      },
      "source": [
        "**SHAPE**:\n",
        " \n",
        "  To understand number of columns and rows from the dataset"
      ]
    },
    {
      "cell_type": "code",
      "execution_count": null,
      "metadata": {
        "colab": {
          "base_uri": "https://localhost:8080/"
        },
        "id": "iKVsb56DFp8M",
        "outputId": "1dc809fd-8ee9-4b0c-9b08-0b9a7b976886"
      },
      "outputs": [
        {
          "data": {
            "text/plain": [
              "(180, 14)"
            ]
          },
          "execution_count": 9,
          "metadata": {},
          "output_type": "execute_result"
        }
      ],
      "source": [
        "X.shape"
      ]
    },
    {
      "cell_type": "code",
      "execution_count": null,
      "metadata": {
        "colab": {
          "base_uri": "https://localhost:8080/"
        },
        "id": "Dth_U_N7FLtU",
        "outputId": "381257d0-6c9a-474a-8730-bbc6d00cdf00"
      },
      "outputs": [
        {
          "data": {
            "text/plain": [
              "(180, 2)"
            ]
          },
          "execution_count": 10,
          "metadata": {},
          "output_type": "execute_result"
        }
      ],
      "source": [
        "Y.shape"
      ]
    },
    {
      "cell_type": "markdown",
      "metadata": {
        "id": "Ab0NZpu6HL7u"
      },
      "source": [
        "\n",
        "* No of rows  in the given X dataset is **180**\n",
        "* No of columns in the given X dataset is **14**\n",
        "* No of rows in the given Y dataset is **180** \n",
        "* No of columns in the given Y dataset is **2**"
      ]
    },
    {
      "cell_type": "markdown",
      "metadata": {
        "id": "VaYEL8WwIkS8"
      },
      "source": [
        "**DESCRIBE :**\n",
        "\n",
        "It returns the count, mean, standard deviation, minimum and maximum values and the quantiles of the data.\n",
        "\n"
      ]
    },
    {
      "cell_type": "code",
      "execution_count": null,
      "metadata": {
        "colab": {
          "base_uri": "https://localhost:8080/",
          "height": 364
        },
        "id": "nA1NblbmOZ_F",
        "outputId": "7c551fcc-8d78-465e-9fb1-a9971bd50e3a"
      },
      "outputs": [
        {
          "data": {
            "text/html": [
              "\n",
              "  <div id=\"df-a36f1ae3-2cf1-4d5b-b3cd-5e110b14cea4\">\n",
              "    <div class=\"colab-df-container\">\n",
              "      <div>\n",
              "<style scoped>\n",
              "    .dataframe tbody tr th:only-of-type {\n",
              "        vertical-align: middle;\n",
              "    }\n",
              "\n",
              "    .dataframe tbody tr th {\n",
              "        vertical-align: top;\n",
              "    }\n",
              "\n",
              "    .dataframe thead th {\n",
              "        text-align: right;\n",
              "    }\n",
              "</style>\n",
              "<table border=\"1\" class=\"dataframe\">\n",
              "  <thead>\n",
              "    <tr style=\"text-align: right;\">\n",
              "      <th></th>\n",
              "      <th>slope_of_peak_exercise_st_segment</th>\n",
              "      <th>resting_blood_pressure</th>\n",
              "      <th>chest_pain_type</th>\n",
              "      <th>num_major_vessels</th>\n",
              "      <th>fasting_blood_sugar_gt_120_mg_per_dl</th>\n",
              "      <th>resting_ekg_results</th>\n",
              "      <th>serum_cholesterol_mg_per_dl</th>\n",
              "      <th>oldpeak_eq_st_depression</th>\n",
              "      <th>sex</th>\n",
              "      <th>age</th>\n",
              "      <th>max_heart_rate_achieved</th>\n",
              "      <th>exercise_induced_angina</th>\n",
              "    </tr>\n",
              "  </thead>\n",
              "  <tbody>\n",
              "    <tr>\n",
              "      <th>count</th>\n",
              "      <td>180.000000</td>\n",
              "      <td>180.000000</td>\n",
              "      <td>180.000000</td>\n",
              "      <td>180.000000</td>\n",
              "      <td>180.000000</td>\n",
              "      <td>180.000000</td>\n",
              "      <td>180.000000</td>\n",
              "      <td>180.000000</td>\n",
              "      <td>180.000000</td>\n",
              "      <td>180.000000</td>\n",
              "      <td>180.000000</td>\n",
              "      <td>180.000000</td>\n",
              "    </tr>\n",
              "    <tr>\n",
              "      <th>mean</th>\n",
              "      <td>1.550000</td>\n",
              "      <td>131.311111</td>\n",
              "      <td>3.155556</td>\n",
              "      <td>0.694444</td>\n",
              "      <td>0.161111</td>\n",
              "      <td>1.050000</td>\n",
              "      <td>249.211111</td>\n",
              "      <td>1.010000</td>\n",
              "      <td>0.688889</td>\n",
              "      <td>54.811111</td>\n",
              "      <td>149.483333</td>\n",
              "      <td>0.316667</td>\n",
              "    </tr>\n",
              "    <tr>\n",
              "      <th>std</th>\n",
              "      <td>0.618838</td>\n",
              "      <td>17.010443</td>\n",
              "      <td>0.938454</td>\n",
              "      <td>0.969347</td>\n",
              "      <td>0.368659</td>\n",
              "      <td>0.998742</td>\n",
              "      <td>52.717969</td>\n",
              "      <td>1.121357</td>\n",
              "      <td>0.464239</td>\n",
              "      <td>9.334737</td>\n",
              "      <td>22.063513</td>\n",
              "      <td>0.466474</td>\n",
              "    </tr>\n",
              "    <tr>\n",
              "      <th>min</th>\n",
              "      <td>1.000000</td>\n",
              "      <td>94.000000</td>\n",
              "      <td>1.000000</td>\n",
              "      <td>0.000000</td>\n",
              "      <td>0.000000</td>\n",
              "      <td>0.000000</td>\n",
              "      <td>126.000000</td>\n",
              "      <td>0.000000</td>\n",
              "      <td>0.000000</td>\n",
              "      <td>29.000000</td>\n",
              "      <td>96.000000</td>\n",
              "      <td>0.000000</td>\n",
              "    </tr>\n",
              "    <tr>\n",
              "      <th>25%</th>\n",
              "      <td>1.000000</td>\n",
              "      <td>120.000000</td>\n",
              "      <td>3.000000</td>\n",
              "      <td>0.000000</td>\n",
              "      <td>0.000000</td>\n",
              "      <td>0.000000</td>\n",
              "      <td>213.750000</td>\n",
              "      <td>0.000000</td>\n",
              "      <td>0.000000</td>\n",
              "      <td>48.000000</td>\n",
              "      <td>132.000000</td>\n",
              "      <td>0.000000</td>\n",
              "    </tr>\n",
              "    <tr>\n",
              "      <th>50%</th>\n",
              "      <td>1.000000</td>\n",
              "      <td>130.000000</td>\n",
              "      <td>3.000000</td>\n",
              "      <td>0.000000</td>\n",
              "      <td>0.000000</td>\n",
              "      <td>2.000000</td>\n",
              "      <td>245.500000</td>\n",
              "      <td>0.800000</td>\n",
              "      <td>1.000000</td>\n",
              "      <td>55.000000</td>\n",
              "      <td>152.000000</td>\n",
              "      <td>0.000000</td>\n",
              "    </tr>\n",
              "    <tr>\n",
              "      <th>75%</th>\n",
              "      <td>2.000000</td>\n",
              "      <td>140.000000</td>\n",
              "      <td>4.000000</td>\n",
              "      <td>1.000000</td>\n",
              "      <td>0.000000</td>\n",
              "      <td>2.000000</td>\n",
              "      <td>281.250000</td>\n",
              "      <td>1.600000</td>\n",
              "      <td>1.000000</td>\n",
              "      <td>62.000000</td>\n",
              "      <td>166.250000</td>\n",
              "      <td>1.000000</td>\n",
              "    </tr>\n",
              "    <tr>\n",
              "      <th>max</th>\n",
              "      <td>3.000000</td>\n",
              "      <td>180.000000</td>\n",
              "      <td>4.000000</td>\n",
              "      <td>3.000000</td>\n",
              "      <td>1.000000</td>\n",
              "      <td>2.000000</td>\n",
              "      <td>564.000000</td>\n",
              "      <td>6.200000</td>\n",
              "      <td>1.000000</td>\n",
              "      <td>77.000000</td>\n",
              "      <td>202.000000</td>\n",
              "      <td>1.000000</td>\n",
              "    </tr>\n",
              "  </tbody>\n",
              "</table>\n",
              "</div>\n",
              "      <button class=\"colab-df-convert\" onclick=\"convertToInteractive('df-a36f1ae3-2cf1-4d5b-b3cd-5e110b14cea4')\"\n",
              "              title=\"Convert this dataframe to an interactive table.\"\n",
              "              style=\"display:none;\">\n",
              "        \n",
              "  <svg xmlns=\"http://www.w3.org/2000/svg\" height=\"24px\"viewBox=\"0 0 24 24\"\n",
              "       width=\"24px\">\n",
              "    <path d=\"M0 0h24v24H0V0z\" fill=\"none\"/>\n",
              "    <path d=\"M18.56 5.44l.94 2.06.94-2.06 2.06-.94-2.06-.94-.94-2.06-.94 2.06-2.06.94zm-11 1L8.5 8.5l.94-2.06 2.06-.94-2.06-.94L8.5 2.5l-.94 2.06-2.06.94zm10 10l.94 2.06.94-2.06 2.06-.94-2.06-.94-.94-2.06-.94 2.06-2.06.94z\"/><path d=\"M17.41 7.96l-1.37-1.37c-.4-.4-.92-.59-1.43-.59-.52 0-1.04.2-1.43.59L10.3 9.45l-7.72 7.72c-.78.78-.78 2.05 0 2.83L4 21.41c.39.39.9.59 1.41.59.51 0 1.02-.2 1.41-.59l7.78-7.78 2.81-2.81c.8-.78.8-2.07 0-2.86zM5.41 20L4 18.59l7.72-7.72 1.47 1.35L5.41 20z\"/>\n",
              "  </svg>\n",
              "      </button>\n",
              "      \n",
              "  <style>\n",
              "    .colab-df-container {\n",
              "      display:flex;\n",
              "      flex-wrap:wrap;\n",
              "      gap: 12px;\n",
              "    }\n",
              "\n",
              "    .colab-df-convert {\n",
              "      background-color: #E8F0FE;\n",
              "      border: none;\n",
              "      border-radius: 50%;\n",
              "      cursor: pointer;\n",
              "      display: none;\n",
              "      fill: #1967D2;\n",
              "      height: 32px;\n",
              "      padding: 0 0 0 0;\n",
              "      width: 32px;\n",
              "    }\n",
              "\n",
              "    .colab-df-convert:hover {\n",
              "      background-color: #E2EBFA;\n",
              "      box-shadow: 0px 1px 2px rgba(60, 64, 67, 0.3), 0px 1px 3px 1px rgba(60, 64, 67, 0.15);\n",
              "      fill: #174EA6;\n",
              "    }\n",
              "\n",
              "    [theme=dark] .colab-df-convert {\n",
              "      background-color: #3B4455;\n",
              "      fill: #D2E3FC;\n",
              "    }\n",
              "\n",
              "    [theme=dark] .colab-df-convert:hover {\n",
              "      background-color: #434B5C;\n",
              "      box-shadow: 0px 1px 3px 1px rgba(0, 0, 0, 0.15);\n",
              "      filter: drop-shadow(0px 1px 2px rgba(0, 0, 0, 0.3));\n",
              "      fill: #FFFFFF;\n",
              "    }\n",
              "  </style>\n",
              "\n",
              "      <script>\n",
              "        const buttonEl =\n",
              "          document.querySelector('#df-a36f1ae3-2cf1-4d5b-b3cd-5e110b14cea4 button.colab-df-convert');\n",
              "        buttonEl.style.display =\n",
              "          google.colab.kernel.accessAllowed ? 'block' : 'none';\n",
              "\n",
              "        async function convertToInteractive(key) {\n",
              "          const element = document.querySelector('#df-a36f1ae3-2cf1-4d5b-b3cd-5e110b14cea4');\n",
              "          const dataTable =\n",
              "            await google.colab.kernel.invokeFunction('convertToInteractive',\n",
              "                                                     [key], {});\n",
              "          if (!dataTable) return;\n",
              "\n",
              "          const docLinkHtml = 'Like what you see? Visit the ' +\n",
              "            '<a target=\"_blank\" href=https://colab.research.google.com/notebooks/data_table.ipynb>data table notebook</a>'\n",
              "            + ' to learn more about interactive tables.';\n",
              "          element.innerHTML = '';\n",
              "          dataTable['output_type'] = 'display_data';\n",
              "          await google.colab.output.renderOutput(dataTable, element);\n",
              "          const docLink = document.createElement('div');\n",
              "          docLink.innerHTML = docLinkHtml;\n",
              "          element.appendChild(docLink);\n",
              "        }\n",
              "      </script>\n",
              "    </div>\n",
              "  </div>\n",
              "  "
            ],
            "text/plain": [
              "       slope_of_peak_exercise_st_segment  resting_blood_pressure  \\\n",
              "count                         180.000000              180.000000   \n",
              "mean                            1.550000              131.311111   \n",
              "std                             0.618838               17.010443   \n",
              "min                             1.000000               94.000000   \n",
              "25%                             1.000000              120.000000   \n",
              "50%                             1.000000              130.000000   \n",
              "75%                             2.000000              140.000000   \n",
              "max                             3.000000              180.000000   \n",
              "\n",
              "       chest_pain_type  num_major_vessels  \\\n",
              "count       180.000000         180.000000   \n",
              "mean          3.155556           0.694444   \n",
              "std           0.938454           0.969347   \n",
              "min           1.000000           0.000000   \n",
              "25%           3.000000           0.000000   \n",
              "50%           3.000000           0.000000   \n",
              "75%           4.000000           1.000000   \n",
              "max           4.000000           3.000000   \n",
              "\n",
              "       fasting_blood_sugar_gt_120_mg_per_dl  resting_ekg_results  \\\n",
              "count                            180.000000           180.000000   \n",
              "mean                               0.161111             1.050000   \n",
              "std                                0.368659             0.998742   \n",
              "min                                0.000000             0.000000   \n",
              "25%                                0.000000             0.000000   \n",
              "50%                                0.000000             2.000000   \n",
              "75%                                0.000000             2.000000   \n",
              "max                                1.000000             2.000000   \n",
              "\n",
              "       serum_cholesterol_mg_per_dl  oldpeak_eq_st_depression         sex  \\\n",
              "count                   180.000000                180.000000  180.000000   \n",
              "mean                    249.211111                  1.010000    0.688889   \n",
              "std                      52.717969                  1.121357    0.464239   \n",
              "min                     126.000000                  0.000000    0.000000   \n",
              "25%                     213.750000                  0.000000    0.000000   \n",
              "50%                     245.500000                  0.800000    1.000000   \n",
              "75%                     281.250000                  1.600000    1.000000   \n",
              "max                     564.000000                  6.200000    1.000000   \n",
              "\n",
              "              age  max_heart_rate_achieved  exercise_induced_angina  \n",
              "count  180.000000               180.000000               180.000000  \n",
              "mean    54.811111               149.483333                 0.316667  \n",
              "std      9.334737                22.063513                 0.466474  \n",
              "min     29.000000                96.000000                 0.000000  \n",
              "25%     48.000000               132.000000                 0.000000  \n",
              "50%     55.000000               152.000000                 0.000000  \n",
              "75%     62.000000               166.250000                 1.000000  \n",
              "max     77.000000               202.000000                 1.000000  "
            ]
          },
          "execution_count": 11,
          "metadata": {},
          "output_type": "execute_result"
        }
      ],
      "source": [
        "X.describe()"
      ]
    },
    {
      "cell_type": "code",
      "execution_count": null,
      "metadata": {
        "colab": {
          "base_uri": "https://localhost:8080/",
          "height": 175
        },
        "id": "XI06hQJFPHar",
        "outputId": "1ffd8860-3970-40fc-e1ec-eabf85500df4"
      },
      "outputs": [
        {
          "data": {
            "text/html": [
              "\n",
              "  <div id=\"df-ac036593-3006-4ae4-8120-985172c88448\">\n",
              "    <div class=\"colab-df-container\">\n",
              "      <div>\n",
              "<style scoped>\n",
              "    .dataframe tbody tr th:only-of-type {\n",
              "        vertical-align: middle;\n",
              "    }\n",
              "\n",
              "    .dataframe tbody tr th {\n",
              "        vertical-align: top;\n",
              "    }\n",
              "\n",
              "    .dataframe thead th {\n",
              "        text-align: right;\n",
              "    }\n",
              "</style>\n",
              "<table border=\"1\" class=\"dataframe\">\n",
              "  <thead>\n",
              "    <tr style=\"text-align: right;\">\n",
              "      <th></th>\n",
              "      <th>patient_id</th>\n",
              "      <th>thal</th>\n",
              "    </tr>\n",
              "  </thead>\n",
              "  <tbody>\n",
              "    <tr>\n",
              "      <th>count</th>\n",
              "      <td>180</td>\n",
              "      <td>180</td>\n",
              "    </tr>\n",
              "    <tr>\n",
              "      <th>unique</th>\n",
              "      <td>180</td>\n",
              "      <td>3</td>\n",
              "    </tr>\n",
              "    <tr>\n",
              "      <th>top</th>\n",
              "      <td>0z64un</td>\n",
              "      <td>normal</td>\n",
              "    </tr>\n",
              "    <tr>\n",
              "      <th>freq</th>\n",
              "      <td>1</td>\n",
              "      <td>98</td>\n",
              "    </tr>\n",
              "  </tbody>\n",
              "</table>\n",
              "</div>\n",
              "      <button class=\"colab-df-convert\" onclick=\"convertToInteractive('df-ac036593-3006-4ae4-8120-985172c88448')\"\n",
              "              title=\"Convert this dataframe to an interactive table.\"\n",
              "              style=\"display:none;\">\n",
              "        \n",
              "  <svg xmlns=\"http://www.w3.org/2000/svg\" height=\"24px\"viewBox=\"0 0 24 24\"\n",
              "       width=\"24px\">\n",
              "    <path d=\"M0 0h24v24H0V0z\" fill=\"none\"/>\n",
              "    <path d=\"M18.56 5.44l.94 2.06.94-2.06 2.06-.94-2.06-.94-.94-2.06-.94 2.06-2.06.94zm-11 1L8.5 8.5l.94-2.06 2.06-.94-2.06-.94L8.5 2.5l-.94 2.06-2.06.94zm10 10l.94 2.06.94-2.06 2.06-.94-2.06-.94-.94-2.06-.94 2.06-2.06.94z\"/><path d=\"M17.41 7.96l-1.37-1.37c-.4-.4-.92-.59-1.43-.59-.52 0-1.04.2-1.43.59L10.3 9.45l-7.72 7.72c-.78.78-.78 2.05 0 2.83L4 21.41c.39.39.9.59 1.41.59.51 0 1.02-.2 1.41-.59l7.78-7.78 2.81-2.81c.8-.78.8-2.07 0-2.86zM5.41 20L4 18.59l7.72-7.72 1.47 1.35L5.41 20z\"/>\n",
              "  </svg>\n",
              "      </button>\n",
              "      \n",
              "  <style>\n",
              "    .colab-df-container {\n",
              "      display:flex;\n",
              "      flex-wrap:wrap;\n",
              "      gap: 12px;\n",
              "    }\n",
              "\n",
              "    .colab-df-convert {\n",
              "      background-color: #E8F0FE;\n",
              "      border: none;\n",
              "      border-radius: 50%;\n",
              "      cursor: pointer;\n",
              "      display: none;\n",
              "      fill: #1967D2;\n",
              "      height: 32px;\n",
              "      padding: 0 0 0 0;\n",
              "      width: 32px;\n",
              "    }\n",
              "\n",
              "    .colab-df-convert:hover {\n",
              "      background-color: #E2EBFA;\n",
              "      box-shadow: 0px 1px 2px rgba(60, 64, 67, 0.3), 0px 1px 3px 1px rgba(60, 64, 67, 0.15);\n",
              "      fill: #174EA6;\n",
              "    }\n",
              "\n",
              "    [theme=dark] .colab-df-convert {\n",
              "      background-color: #3B4455;\n",
              "      fill: #D2E3FC;\n",
              "    }\n",
              "\n",
              "    [theme=dark] .colab-df-convert:hover {\n",
              "      background-color: #434B5C;\n",
              "      box-shadow: 0px 1px 3px 1px rgba(0, 0, 0, 0.15);\n",
              "      filter: drop-shadow(0px 1px 2px rgba(0, 0, 0, 0.3));\n",
              "      fill: #FFFFFF;\n",
              "    }\n",
              "  </style>\n",
              "\n",
              "      <script>\n",
              "        const buttonEl =\n",
              "          document.querySelector('#df-ac036593-3006-4ae4-8120-985172c88448 button.colab-df-convert');\n",
              "        buttonEl.style.display =\n",
              "          google.colab.kernel.accessAllowed ? 'block' : 'none';\n",
              "\n",
              "        async function convertToInteractive(key) {\n",
              "          const element = document.querySelector('#df-ac036593-3006-4ae4-8120-985172c88448');\n",
              "          const dataTable =\n",
              "            await google.colab.kernel.invokeFunction('convertToInteractive',\n",
              "                                                     [key], {});\n",
              "          if (!dataTable) return;\n",
              "\n",
              "          const docLinkHtml = 'Like what you see? Visit the ' +\n",
              "            '<a target=\"_blank\" href=https://colab.research.google.com/notebooks/data_table.ipynb>data table notebook</a>'\n",
              "            + ' to learn more about interactive tables.';\n",
              "          element.innerHTML = '';\n",
              "          dataTable['output_type'] = 'display_data';\n",
              "          await google.colab.output.renderOutput(dataTable, element);\n",
              "          const docLink = document.createElement('div');\n",
              "          docLink.innerHTML = docLinkHtml;\n",
              "          element.appendChild(docLink);\n",
              "        }\n",
              "      </script>\n",
              "    </div>\n",
              "  </div>\n",
              "  "
            ],
            "text/plain": [
              "       patient_id    thal\n",
              "count         180     180\n",
              "unique        180       3\n",
              "top        0z64un  normal\n",
              "freq            1      98"
            ]
          },
          "execution_count": 12,
          "metadata": {},
          "output_type": "execute_result"
        }
      ],
      "source": [
        "X.describe(include='O') "
      ]
    },
    {
      "cell_type": "markdown",
      "metadata": {
        "id": "Z_LPbaRsKJ5x"
      },
      "source": [
        "**EXPLORATORY DATA ANALYSIS** **:** \n",
        " \n",
        "For initial investigation on data\n",
        " \n",
        "* To discover patterns \n",
        "* To plot anomalis\n",
        "* To test hypothesis\n",
        "* To check assumptions with statistics and graphical representations\n",
        "\n",
        "                                     \n"
      ]
    },
    {
      "cell_type": "markdown",
      "metadata": {
        "id": "2G5i3ECjj81a"
      },
      "source": [
        "Importing sweetviz to analyze dataset"
      ]
    },
    {
      "cell_type": "code",
      "execution_count": null,
      "metadata": {
        "id": "JBNlnzLvefXJ"
      },
      "outputs": [],
      "source": []
    },
    {
      "cell_type": "markdown",
      "metadata": {
        "id": "tp4WiYhLkWzU"
      },
      "source": [
        "Display report"
      ]
    },
    {
      "cell_type": "code",
      "execution_count": null,
      "metadata": {
        "colab": {
          "base_uri": "https://localhost:8080/",
          "height": 182
        },
        "id": "oUyBlun6kV60",
        "outputId": "1887065e-9db8-460a-9077-3535a761559f"
      },
      "outputs": [
        {
          "ename": "NameError",
          "evalue": "ignored",
          "output_type": "error",
          "traceback": [
            "\u001b[0;31m---------------------------------------------------------------------------\u001b[0m",
            "\u001b[0;31mNameError\u001b[0m                                 Traceback (most recent call last)",
            "\u001b[0;32m<ipython-input-34-31c6993614e1>\u001b[0m in \u001b[0;36m<module>\u001b[0;34m\u001b[0m\n\u001b[0;32m----> 1\u001b[0;31m \u001b[0mEarthquare_report\u001b[0m \u001b[0;34m=\u001b[0m \u001b[0msv\u001b[0m\u001b[0;34m.\u001b[0m\u001b[0manalyze\u001b[0m\u001b[0;34m(\u001b[0m\u001b[0mdf\u001b[0m\u001b[0;34m)\u001b[0m \u001b[0;31m#display the report\u001b[0m\u001b[0;34m\u001b[0m\u001b[0;34m\u001b[0m\u001b[0m\n\u001b[0m\u001b[1;32m      2\u001b[0m \u001b[0mEarthquare_report\u001b[0m\u001b[0;34m.\u001b[0m\u001b[0mshow_html\u001b[0m\u001b[0;34m(\u001b[0m\u001b[0;34m'Equake.html'\u001b[0m\u001b[0;34m)\u001b[0m\u001b[0;34m\u001b[0m\u001b[0;34m\u001b[0m\u001b[0m\n",
            "\u001b[0;31mNameError\u001b[0m: name 'sv' is not defined"
          ]
        }
      ],
      "source": [
        "Earthquare_report = sv.analyze(df) #display the report\n",
        "Earthquare_report.show_html('Equake.html')"
      ]
    },
    {
      "cell_type": "markdown",
      "metadata": {
        "id": "aUDMVr6nRE1n"
      },
      "source": [
        "Lets merge X (values) and Y (labels) datasets, which is independent and dependent variables "
      ]
    },
    {
      "cell_type": "code",
      "execution_count": null,
      "metadata": {
        "colab": {
          "base_uri": "https://localhost:8080/",
          "height": 270
        },
        "id": "yLeT64L5NDc-",
        "outputId": "f49de865-894b-430d-83cb-b094b4858673"
      },
      "outputs": [
        {
          "data": {
            "text/html": [
              "\n",
              "  <div id=\"df-92571134-8dec-4f68-a695-45f94e567f8b\">\n",
              "    <div class=\"colab-df-container\">\n",
              "      <div>\n",
              "<style scoped>\n",
              "    .dataframe tbody tr th:only-of-type {\n",
              "        vertical-align: middle;\n",
              "    }\n",
              "\n",
              "    .dataframe tbody tr th {\n",
              "        vertical-align: top;\n",
              "    }\n",
              "\n",
              "    .dataframe thead th {\n",
              "        text-align: right;\n",
              "    }\n",
              "</style>\n",
              "<table border=\"1\" class=\"dataframe\">\n",
              "  <thead>\n",
              "    <tr style=\"text-align: right;\">\n",
              "      <th></th>\n",
              "      <th>patient_id</th>\n",
              "      <th>slope_of_peak_exercise_st_segment</th>\n",
              "      <th>thal</th>\n",
              "      <th>resting_blood_pressure</th>\n",
              "      <th>chest_pain_type</th>\n",
              "      <th>num_major_vessels</th>\n",
              "      <th>fasting_blood_sugar_gt_120_mg_per_dl</th>\n",
              "      <th>resting_ekg_results</th>\n",
              "      <th>serum_cholesterol_mg_per_dl</th>\n",
              "      <th>oldpeak_eq_st_depression</th>\n",
              "      <th>sex</th>\n",
              "      <th>age</th>\n",
              "      <th>max_heart_rate_achieved</th>\n",
              "      <th>exercise_induced_angina</th>\n",
              "      <th>heart_disease_present</th>\n",
              "    </tr>\n",
              "  </thead>\n",
              "  <tbody>\n",
              "    <tr>\n",
              "      <th>0</th>\n",
              "      <td>0z64un</td>\n",
              "      <td>1</td>\n",
              "      <td>normal</td>\n",
              "      <td>128</td>\n",
              "      <td>2</td>\n",
              "      <td>0</td>\n",
              "      <td>0</td>\n",
              "      <td>2</td>\n",
              "      <td>308</td>\n",
              "      <td>0.0</td>\n",
              "      <td>1</td>\n",
              "      <td>45</td>\n",
              "      <td>170</td>\n",
              "      <td>0</td>\n",
              "      <td>0</td>\n",
              "    </tr>\n",
              "    <tr>\n",
              "      <th>1</th>\n",
              "      <td>ryoo3j</td>\n",
              "      <td>2</td>\n",
              "      <td>normal</td>\n",
              "      <td>110</td>\n",
              "      <td>3</td>\n",
              "      <td>0</td>\n",
              "      <td>0</td>\n",
              "      <td>0</td>\n",
              "      <td>214</td>\n",
              "      <td>1.6</td>\n",
              "      <td>0</td>\n",
              "      <td>54</td>\n",
              "      <td>158</td>\n",
              "      <td>0</td>\n",
              "      <td>0</td>\n",
              "    </tr>\n",
              "    <tr>\n",
              "      <th>2</th>\n",
              "      <td>yt1s1x</td>\n",
              "      <td>1</td>\n",
              "      <td>normal</td>\n",
              "      <td>125</td>\n",
              "      <td>4</td>\n",
              "      <td>3</td>\n",
              "      <td>0</td>\n",
              "      <td>2</td>\n",
              "      <td>304</td>\n",
              "      <td>0.0</td>\n",
              "      <td>1</td>\n",
              "      <td>77</td>\n",
              "      <td>162</td>\n",
              "      <td>1</td>\n",
              "      <td>1</td>\n",
              "    </tr>\n",
              "    <tr>\n",
              "      <th>3</th>\n",
              "      <td>l2xjde</td>\n",
              "      <td>1</td>\n",
              "      <td>reversible_defect</td>\n",
              "      <td>152</td>\n",
              "      <td>4</td>\n",
              "      <td>0</td>\n",
              "      <td>0</td>\n",
              "      <td>0</td>\n",
              "      <td>223</td>\n",
              "      <td>0.0</td>\n",
              "      <td>1</td>\n",
              "      <td>40</td>\n",
              "      <td>181</td>\n",
              "      <td>0</td>\n",
              "      <td>1</td>\n",
              "    </tr>\n",
              "    <tr>\n",
              "      <th>4</th>\n",
              "      <td>oyt4ek</td>\n",
              "      <td>3</td>\n",
              "      <td>reversible_defect</td>\n",
              "      <td>178</td>\n",
              "      <td>1</td>\n",
              "      <td>0</td>\n",
              "      <td>0</td>\n",
              "      <td>2</td>\n",
              "      <td>270</td>\n",
              "      <td>4.2</td>\n",
              "      <td>1</td>\n",
              "      <td>59</td>\n",
              "      <td>145</td>\n",
              "      <td>0</td>\n",
              "      <td>0</td>\n",
              "    </tr>\n",
              "  </tbody>\n",
              "</table>\n",
              "</div>\n",
              "      <button class=\"colab-df-convert\" onclick=\"convertToInteractive('df-92571134-8dec-4f68-a695-45f94e567f8b')\"\n",
              "              title=\"Convert this dataframe to an interactive table.\"\n",
              "              style=\"display:none;\">\n",
              "        \n",
              "  <svg xmlns=\"http://www.w3.org/2000/svg\" height=\"24px\"viewBox=\"0 0 24 24\"\n",
              "       width=\"24px\">\n",
              "    <path d=\"M0 0h24v24H0V0z\" fill=\"none\"/>\n",
              "    <path d=\"M18.56 5.44l.94 2.06.94-2.06 2.06-.94-2.06-.94-.94-2.06-.94 2.06-2.06.94zm-11 1L8.5 8.5l.94-2.06 2.06-.94-2.06-.94L8.5 2.5l-.94 2.06-2.06.94zm10 10l.94 2.06.94-2.06 2.06-.94-2.06-.94-.94-2.06-.94 2.06-2.06.94z\"/><path d=\"M17.41 7.96l-1.37-1.37c-.4-.4-.92-.59-1.43-.59-.52 0-1.04.2-1.43.59L10.3 9.45l-7.72 7.72c-.78.78-.78 2.05 0 2.83L4 21.41c.39.39.9.59 1.41.59.51 0 1.02-.2 1.41-.59l7.78-7.78 2.81-2.81c.8-.78.8-2.07 0-2.86zM5.41 20L4 18.59l7.72-7.72 1.47 1.35L5.41 20z\"/>\n",
              "  </svg>\n",
              "      </button>\n",
              "      \n",
              "  <style>\n",
              "    .colab-df-container {\n",
              "      display:flex;\n",
              "      flex-wrap:wrap;\n",
              "      gap: 12px;\n",
              "    }\n",
              "\n",
              "    .colab-df-convert {\n",
              "      background-color: #E8F0FE;\n",
              "      border: none;\n",
              "      border-radius: 50%;\n",
              "      cursor: pointer;\n",
              "      display: none;\n",
              "      fill: #1967D2;\n",
              "      height: 32px;\n",
              "      padding: 0 0 0 0;\n",
              "      width: 32px;\n",
              "    }\n",
              "\n",
              "    .colab-df-convert:hover {\n",
              "      background-color: #E2EBFA;\n",
              "      box-shadow: 0px 1px 2px rgba(60, 64, 67, 0.3), 0px 1px 3px 1px rgba(60, 64, 67, 0.15);\n",
              "      fill: #174EA6;\n",
              "    }\n",
              "\n",
              "    [theme=dark] .colab-df-convert {\n",
              "      background-color: #3B4455;\n",
              "      fill: #D2E3FC;\n",
              "    }\n",
              "\n",
              "    [theme=dark] .colab-df-convert:hover {\n",
              "      background-color: #434B5C;\n",
              "      box-shadow: 0px 1px 3px 1px rgba(0, 0, 0, 0.15);\n",
              "      filter: drop-shadow(0px 1px 2px rgba(0, 0, 0, 0.3));\n",
              "      fill: #FFFFFF;\n",
              "    }\n",
              "  </style>\n",
              "\n",
              "      <script>\n",
              "        const buttonEl =\n",
              "          document.querySelector('#df-92571134-8dec-4f68-a695-45f94e567f8b button.colab-df-convert');\n",
              "        buttonEl.style.display =\n",
              "          google.colab.kernel.accessAllowed ? 'block' : 'none';\n",
              "\n",
              "        async function convertToInteractive(key) {\n",
              "          const element = document.querySelector('#df-92571134-8dec-4f68-a695-45f94e567f8b');\n",
              "          const dataTable =\n",
              "            await google.colab.kernel.invokeFunction('convertToInteractive',\n",
              "                                                     [key], {});\n",
              "          if (!dataTable) return;\n",
              "\n",
              "          const docLinkHtml = 'Like what you see? Visit the ' +\n",
              "            '<a target=\"_blank\" href=https://colab.research.google.com/notebooks/data_table.ipynb>data table notebook</a>'\n",
              "            + ' to learn more about interactive tables.';\n",
              "          element.innerHTML = '';\n",
              "          dataTable['output_type'] = 'display_data';\n",
              "          await google.colab.output.renderOutput(dataTable, element);\n",
              "          const docLink = document.createElement('div');\n",
              "          docLink.innerHTML = docLinkHtml;\n",
              "          element.appendChild(docLink);\n",
              "        }\n",
              "      </script>\n",
              "    </div>\n",
              "  </div>\n",
              "  "
            ],
            "text/plain": [
              "  patient_id  slope_of_peak_exercise_st_segment               thal  \\\n",
              "0     0z64un                                  1             normal   \n",
              "1     ryoo3j                                  2             normal   \n",
              "2     yt1s1x                                  1             normal   \n",
              "3     l2xjde                                  1  reversible_defect   \n",
              "4     oyt4ek                                  3  reversible_defect   \n",
              "\n",
              "   resting_blood_pressure  chest_pain_type  num_major_vessels  \\\n",
              "0                     128                2                  0   \n",
              "1                     110                3                  0   \n",
              "2                     125                4                  3   \n",
              "3                     152                4                  0   \n",
              "4                     178                1                  0   \n",
              "\n",
              "   fasting_blood_sugar_gt_120_mg_per_dl  resting_ekg_results  \\\n",
              "0                                     0                    2   \n",
              "1                                     0                    0   \n",
              "2                                     0                    2   \n",
              "3                                     0                    0   \n",
              "4                                     0                    2   \n",
              "\n",
              "   serum_cholesterol_mg_per_dl  oldpeak_eq_st_depression  sex  age  \\\n",
              "0                          308                       0.0    1   45   \n",
              "1                          214                       1.6    0   54   \n",
              "2                          304                       0.0    1   77   \n",
              "3                          223                       0.0    1   40   \n",
              "4                          270                       4.2    1   59   \n",
              "\n",
              "   max_heart_rate_achieved  exercise_induced_angina  heart_disease_present  \n",
              "0                      170                        0                      0  \n",
              "1                      158                        0                      0  \n",
              "2                      162                        1                      1  \n",
              "3                      181                        0                      1  \n",
              "4                      145                        0                      0  "
            ]
          },
          "execution_count": 35,
          "metadata": {},
          "output_type": "execute_result"
        }
      ],
      "source": [
        "df=pd.merge(X,Y)\n",
        "df.head()"
      ]
    },
    {
      "cell_type": "code",
      "execution_count": null,
      "metadata": {
        "colab": {
          "base_uri": "https://localhost:8080/"
        },
        "id": "8TkpsO4_TLDO",
        "outputId": "76e36049-a28b-4f19-b8b0-d0e97fad36ab"
      },
      "outputs": [
        {
          "data": {
            "text/plain": [
              "(180, 15)"
            ]
          },
          "execution_count": 36,
          "metadata": {},
          "output_type": "execute_result"
        }
      ],
      "source": [
        "df.shape"
      ]
    },
    {
      "cell_type": "markdown",
      "metadata": {
        "id": "YN32ZrfNTQ6F"
      },
      "source": [
        "The above modified dataframe after merging has **180 rows** and **15 columns**\n",
        "*  It has 180 observations and 15 characteristics\n",
        "*  In the above 15 characteristics , 1 is dependent variable(heart_disease_present)  and rest 14 variables are independent."
      ]
    },
    {
      "cell_type": "markdown",
      "metadata": {
        "id": "grH5QRZ2Vy9-"
      },
      "source": [
        "Lets get more information on data usinfg info function\n",
        "\n",
        " * It gives column details\n",
        " * Corresponding data types\n",
        " * Also the Null values \n"
      ]
    },
    {
      "cell_type": "code",
      "execution_count": null,
      "metadata": {
        "colab": {
          "base_uri": "https://localhost:8080/"
        },
        "id": "8mU256IoTNaN",
        "outputId": "ea1525a1-5fe0-4b3c-c201-46537945822f"
      },
      "outputs": [
        {
          "name": "stdout",
          "output_type": "stream",
          "text": [
            "<class 'pandas.core.frame.DataFrame'>\n",
            "Int64Index: 180 entries, 0 to 179\n",
            "Data columns (total 15 columns):\n",
            " #   Column                                Non-Null Count  Dtype  \n",
            "---  ------                                --------------  -----  \n",
            " 0   patient_id                            180 non-null    object \n",
            " 1   slope_of_peak_exercise_st_segment     180 non-null    int64  \n",
            " 2   thal                                  180 non-null    object \n",
            " 3   resting_blood_pressure                180 non-null    int64  \n",
            " 4   chest_pain_type                       180 non-null    int64  \n",
            " 5   num_major_vessels                     180 non-null    int64  \n",
            " 6   fasting_blood_sugar_gt_120_mg_per_dl  180 non-null    int64  \n",
            " 7   resting_ekg_results                   180 non-null    int64  \n",
            " 8   serum_cholesterol_mg_per_dl           180 non-null    int64  \n",
            " 9   oldpeak_eq_st_depression              180 non-null    float64\n",
            " 10  sex                                   180 non-null    int64  \n",
            " 11  age                                   180 non-null    int64  \n",
            " 12  max_heart_rate_achieved               180 non-null    int64  \n",
            " 13  exercise_induced_angina               180 non-null    int64  \n",
            " 14  heart_disease_present                 180 non-null    int64  \n",
            "dtypes: float64(1), int64(12), object(2)\n",
            "memory usage: 22.5+ KB\n"
          ]
        }
      ],
      "source": [
        "df.info()"
      ]
    },
    {
      "cell_type": "markdown",
      "metadata": {
        "id": "8hTUI-IQXoyZ"
      },
      "source": [
        "From the above **data info** ,\n",
        "\n",
        " * Data has object, integer, float values\n",
        " * Variable column has no null or missing values\n",
        " * `patient_id` and `thal` has object type data\n",
        " * Only `oldpeak_eq_st_depression` has Float data type "
      ]
    },
    {
      "cell_type": "code",
      "execution_count": null,
      "metadata": {
        "colab": {
          "base_uri": "https://localhost:8080/",
          "height": 364
        },
        "id": "kmMfLFYeWm49",
        "outputId": "64d0f70b-5656-4b40-d56b-d432c1bc6583"
      },
      "outputs": [
        {
          "data": {
            "text/html": [
              "\n",
              "  <div id=\"df-2bd0a0c1-08e7-404e-b13b-457e854c3df7\">\n",
              "    <div class=\"colab-df-container\">\n",
              "      <div>\n",
              "<style scoped>\n",
              "    .dataframe tbody tr th:only-of-type {\n",
              "        vertical-align: middle;\n",
              "    }\n",
              "\n",
              "    .dataframe tbody tr th {\n",
              "        vertical-align: top;\n",
              "    }\n",
              "\n",
              "    .dataframe thead th {\n",
              "        text-align: right;\n",
              "    }\n",
              "</style>\n",
              "<table border=\"1\" class=\"dataframe\">\n",
              "  <thead>\n",
              "    <tr style=\"text-align: right;\">\n",
              "      <th></th>\n",
              "      <th>slope_of_peak_exercise_st_segment</th>\n",
              "      <th>resting_blood_pressure</th>\n",
              "      <th>chest_pain_type</th>\n",
              "      <th>num_major_vessels</th>\n",
              "      <th>fasting_blood_sugar_gt_120_mg_per_dl</th>\n",
              "      <th>resting_ekg_results</th>\n",
              "      <th>serum_cholesterol_mg_per_dl</th>\n",
              "      <th>oldpeak_eq_st_depression</th>\n",
              "      <th>sex</th>\n",
              "      <th>age</th>\n",
              "      <th>max_heart_rate_achieved</th>\n",
              "      <th>exercise_induced_angina</th>\n",
              "      <th>heart_disease_present</th>\n",
              "    </tr>\n",
              "  </thead>\n",
              "  <tbody>\n",
              "    <tr>\n",
              "      <th>count</th>\n",
              "      <td>180.000000</td>\n",
              "      <td>180.000000</td>\n",
              "      <td>180.000000</td>\n",
              "      <td>180.000000</td>\n",
              "      <td>180.000000</td>\n",
              "      <td>180.000000</td>\n",
              "      <td>180.000000</td>\n",
              "      <td>180.000000</td>\n",
              "      <td>180.000000</td>\n",
              "      <td>180.000000</td>\n",
              "      <td>180.000000</td>\n",
              "      <td>180.000000</td>\n",
              "      <td>180.000000</td>\n",
              "    </tr>\n",
              "    <tr>\n",
              "      <th>mean</th>\n",
              "      <td>1.550000</td>\n",
              "      <td>131.311111</td>\n",
              "      <td>3.155556</td>\n",
              "      <td>0.694444</td>\n",
              "      <td>0.161111</td>\n",
              "      <td>1.050000</td>\n",
              "      <td>249.211111</td>\n",
              "      <td>1.010000</td>\n",
              "      <td>0.688889</td>\n",
              "      <td>54.811111</td>\n",
              "      <td>149.483333</td>\n",
              "      <td>0.316667</td>\n",
              "      <td>0.444444</td>\n",
              "    </tr>\n",
              "    <tr>\n",
              "      <th>std</th>\n",
              "      <td>0.618838</td>\n",
              "      <td>17.010443</td>\n",
              "      <td>0.938454</td>\n",
              "      <td>0.969347</td>\n",
              "      <td>0.368659</td>\n",
              "      <td>0.998742</td>\n",
              "      <td>52.717969</td>\n",
              "      <td>1.121357</td>\n",
              "      <td>0.464239</td>\n",
              "      <td>9.334737</td>\n",
              "      <td>22.063513</td>\n",
              "      <td>0.466474</td>\n",
              "      <td>0.498290</td>\n",
              "    </tr>\n",
              "    <tr>\n",
              "      <th>min</th>\n",
              "      <td>1.000000</td>\n",
              "      <td>94.000000</td>\n",
              "      <td>1.000000</td>\n",
              "      <td>0.000000</td>\n",
              "      <td>0.000000</td>\n",
              "      <td>0.000000</td>\n",
              "      <td>126.000000</td>\n",
              "      <td>0.000000</td>\n",
              "      <td>0.000000</td>\n",
              "      <td>29.000000</td>\n",
              "      <td>96.000000</td>\n",
              "      <td>0.000000</td>\n",
              "      <td>0.000000</td>\n",
              "    </tr>\n",
              "    <tr>\n",
              "      <th>25%</th>\n",
              "      <td>1.000000</td>\n",
              "      <td>120.000000</td>\n",
              "      <td>3.000000</td>\n",
              "      <td>0.000000</td>\n",
              "      <td>0.000000</td>\n",
              "      <td>0.000000</td>\n",
              "      <td>213.750000</td>\n",
              "      <td>0.000000</td>\n",
              "      <td>0.000000</td>\n",
              "      <td>48.000000</td>\n",
              "      <td>132.000000</td>\n",
              "      <td>0.000000</td>\n",
              "      <td>0.000000</td>\n",
              "    </tr>\n",
              "    <tr>\n",
              "      <th>50%</th>\n",
              "      <td>1.000000</td>\n",
              "      <td>130.000000</td>\n",
              "      <td>3.000000</td>\n",
              "      <td>0.000000</td>\n",
              "      <td>0.000000</td>\n",
              "      <td>2.000000</td>\n",
              "      <td>245.500000</td>\n",
              "      <td>0.800000</td>\n",
              "      <td>1.000000</td>\n",
              "      <td>55.000000</td>\n",
              "      <td>152.000000</td>\n",
              "      <td>0.000000</td>\n",
              "      <td>0.000000</td>\n",
              "    </tr>\n",
              "    <tr>\n",
              "      <th>75%</th>\n",
              "      <td>2.000000</td>\n",
              "      <td>140.000000</td>\n",
              "      <td>4.000000</td>\n",
              "      <td>1.000000</td>\n",
              "      <td>0.000000</td>\n",
              "      <td>2.000000</td>\n",
              "      <td>281.250000</td>\n",
              "      <td>1.600000</td>\n",
              "      <td>1.000000</td>\n",
              "      <td>62.000000</td>\n",
              "      <td>166.250000</td>\n",
              "      <td>1.000000</td>\n",
              "      <td>1.000000</td>\n",
              "    </tr>\n",
              "    <tr>\n",
              "      <th>max</th>\n",
              "      <td>3.000000</td>\n",
              "      <td>180.000000</td>\n",
              "      <td>4.000000</td>\n",
              "      <td>3.000000</td>\n",
              "      <td>1.000000</td>\n",
              "      <td>2.000000</td>\n",
              "      <td>564.000000</td>\n",
              "      <td>6.200000</td>\n",
              "      <td>1.000000</td>\n",
              "      <td>77.000000</td>\n",
              "      <td>202.000000</td>\n",
              "      <td>1.000000</td>\n",
              "      <td>1.000000</td>\n",
              "    </tr>\n",
              "  </tbody>\n",
              "</table>\n",
              "</div>\n",
              "      <button class=\"colab-df-convert\" onclick=\"convertToInteractive('df-2bd0a0c1-08e7-404e-b13b-457e854c3df7')\"\n",
              "              title=\"Convert this dataframe to an interactive table.\"\n",
              "              style=\"display:none;\">\n",
              "        \n",
              "  <svg xmlns=\"http://www.w3.org/2000/svg\" height=\"24px\"viewBox=\"0 0 24 24\"\n",
              "       width=\"24px\">\n",
              "    <path d=\"M0 0h24v24H0V0z\" fill=\"none\"/>\n",
              "    <path d=\"M18.56 5.44l.94 2.06.94-2.06 2.06-.94-2.06-.94-.94-2.06-.94 2.06-2.06.94zm-11 1L8.5 8.5l.94-2.06 2.06-.94-2.06-.94L8.5 2.5l-.94 2.06-2.06.94zm10 10l.94 2.06.94-2.06 2.06-.94-2.06-.94-.94-2.06-.94 2.06-2.06.94z\"/><path d=\"M17.41 7.96l-1.37-1.37c-.4-.4-.92-.59-1.43-.59-.52 0-1.04.2-1.43.59L10.3 9.45l-7.72 7.72c-.78.78-.78 2.05 0 2.83L4 21.41c.39.39.9.59 1.41.59.51 0 1.02-.2 1.41-.59l7.78-7.78 2.81-2.81c.8-.78.8-2.07 0-2.86zM5.41 20L4 18.59l7.72-7.72 1.47 1.35L5.41 20z\"/>\n",
              "  </svg>\n",
              "      </button>\n",
              "      \n",
              "  <style>\n",
              "    .colab-df-container {\n",
              "      display:flex;\n",
              "      flex-wrap:wrap;\n",
              "      gap: 12px;\n",
              "    }\n",
              "\n",
              "    .colab-df-convert {\n",
              "      background-color: #E8F0FE;\n",
              "      border: none;\n",
              "      border-radius: 50%;\n",
              "      cursor: pointer;\n",
              "      display: none;\n",
              "      fill: #1967D2;\n",
              "      height: 32px;\n",
              "      padding: 0 0 0 0;\n",
              "      width: 32px;\n",
              "    }\n",
              "\n",
              "    .colab-df-convert:hover {\n",
              "      background-color: #E2EBFA;\n",
              "      box-shadow: 0px 1px 2px rgba(60, 64, 67, 0.3), 0px 1px 3px 1px rgba(60, 64, 67, 0.15);\n",
              "      fill: #174EA6;\n",
              "    }\n",
              "\n",
              "    [theme=dark] .colab-df-convert {\n",
              "      background-color: #3B4455;\n",
              "      fill: #D2E3FC;\n",
              "    }\n",
              "\n",
              "    [theme=dark] .colab-df-convert:hover {\n",
              "      background-color: #434B5C;\n",
              "      box-shadow: 0px 1px 3px 1px rgba(0, 0, 0, 0.15);\n",
              "      filter: drop-shadow(0px 1px 2px rgba(0, 0, 0, 0.3));\n",
              "      fill: #FFFFFF;\n",
              "    }\n",
              "  </style>\n",
              "\n",
              "      <script>\n",
              "        const buttonEl =\n",
              "          document.querySelector('#df-2bd0a0c1-08e7-404e-b13b-457e854c3df7 button.colab-df-convert');\n",
              "        buttonEl.style.display =\n",
              "          google.colab.kernel.accessAllowed ? 'block' : 'none';\n",
              "\n",
              "        async function convertToInteractive(key) {\n",
              "          const element = document.querySelector('#df-2bd0a0c1-08e7-404e-b13b-457e854c3df7');\n",
              "          const dataTable =\n",
              "            await google.colab.kernel.invokeFunction('convertToInteractive',\n",
              "                                                     [key], {});\n",
              "          if (!dataTable) return;\n",
              "\n",
              "          const docLinkHtml = 'Like what you see? Visit the ' +\n",
              "            '<a target=\"_blank\" href=https://colab.research.google.com/notebooks/data_table.ipynb>data table notebook</a>'\n",
              "            + ' to learn more about interactive tables.';\n",
              "          element.innerHTML = '';\n",
              "          dataTable['output_type'] = 'display_data';\n",
              "          await google.colab.output.renderOutput(dataTable, element);\n",
              "          const docLink = document.createElement('div');\n",
              "          docLink.innerHTML = docLinkHtml;\n",
              "          element.appendChild(docLink);\n",
              "        }\n",
              "      </script>\n",
              "    </div>\n",
              "  </div>\n",
              "  "
            ],
            "text/plain": [
              "       slope_of_peak_exercise_st_segment  resting_blood_pressure  \\\n",
              "count                         180.000000              180.000000   \n",
              "mean                            1.550000              131.311111   \n",
              "std                             0.618838               17.010443   \n",
              "min                             1.000000               94.000000   \n",
              "25%                             1.000000              120.000000   \n",
              "50%                             1.000000              130.000000   \n",
              "75%                             2.000000              140.000000   \n",
              "max                             3.000000              180.000000   \n",
              "\n",
              "       chest_pain_type  num_major_vessels  \\\n",
              "count       180.000000         180.000000   \n",
              "mean          3.155556           0.694444   \n",
              "std           0.938454           0.969347   \n",
              "min           1.000000           0.000000   \n",
              "25%           3.000000           0.000000   \n",
              "50%           3.000000           0.000000   \n",
              "75%           4.000000           1.000000   \n",
              "max           4.000000           3.000000   \n",
              "\n",
              "       fasting_blood_sugar_gt_120_mg_per_dl  resting_ekg_results  \\\n",
              "count                            180.000000           180.000000   \n",
              "mean                               0.161111             1.050000   \n",
              "std                                0.368659             0.998742   \n",
              "min                                0.000000             0.000000   \n",
              "25%                                0.000000             0.000000   \n",
              "50%                                0.000000             2.000000   \n",
              "75%                                0.000000             2.000000   \n",
              "max                                1.000000             2.000000   \n",
              "\n",
              "       serum_cholesterol_mg_per_dl  oldpeak_eq_st_depression         sex  \\\n",
              "count                   180.000000                180.000000  180.000000   \n",
              "mean                    249.211111                  1.010000    0.688889   \n",
              "std                      52.717969                  1.121357    0.464239   \n",
              "min                     126.000000                  0.000000    0.000000   \n",
              "25%                     213.750000                  0.000000    0.000000   \n",
              "50%                     245.500000                  0.800000    1.000000   \n",
              "75%                     281.250000                  1.600000    1.000000   \n",
              "max                     564.000000                  6.200000    1.000000   \n",
              "\n",
              "              age  max_heart_rate_achieved  exercise_induced_angina  \\\n",
              "count  180.000000               180.000000               180.000000   \n",
              "mean    54.811111               149.483333                 0.316667   \n",
              "std      9.334737                22.063513                 0.466474   \n",
              "min     29.000000                96.000000                 0.000000   \n",
              "25%     48.000000               132.000000                 0.000000   \n",
              "50%     55.000000               152.000000                 0.000000   \n",
              "75%     62.000000               166.250000                 1.000000   \n",
              "max     77.000000               202.000000                 1.000000   \n",
              "\n",
              "       heart_disease_present  \n",
              "count             180.000000  \n",
              "mean                0.444444  \n",
              "std                 0.498290  \n",
              "min                 0.000000  \n",
              "25%                 0.000000  \n",
              "50%                 0.000000  \n",
              "75%                 1.000000  \n",
              "max                 1.000000  "
            ]
          },
          "execution_count": 39,
          "metadata": {},
          "output_type": "execute_result"
        }
      ],
      "source": [
        "df.describe()"
      ]
    },
    {
      "cell_type": "code",
      "execution_count": null,
      "metadata": {
        "colab": {
          "base_uri": "https://localhost:8080/"
        },
        "id": "_ouP--24cMg1",
        "outputId": "51002043-8c4f-44d4-ba94-956744e3d482"
      },
      "outputs": [
        {
          "data": {
            "text/plain": [
              "0    100\n",
              "1     80\n",
              "Name: heart_disease_present, dtype: int64"
            ]
          },
          "execution_count": 40,
          "metadata": {},
          "output_type": "execute_result"
        }
      ],
      "source": [
        "df.heart_disease_present.value_counts()"
      ]
    },
    {
      "cell_type": "markdown",
      "metadata": {
        "id": "j_REECwAeEwM"
      },
      "source": [
        "*  heart_disease_present has most values as 0 (no heart disease)\n",
        "*  Only few observations has 1 (with heart disease) that is **80 patients**"
      ]
    },
    {
      "cell_type": "markdown",
      "metadata": {
        "id": "rLnlFKEiz0TJ"
      },
      "source": [
        "**FEATURES :**\n",
        "\n",
        "  "
      ]
    },
    {
      "cell_type": "markdown",
      "metadata": {
        "id": "Y_6APaLP0IGB"
      },
      "source": [
        "UNIVARIATE ANALYSIS :\n",
        " \n",
        " *  To check features using various statistical methods and visualizations\n",
        "   \n",
        "   *  Missing values\n",
        "   * Outliers\n",
        "   * Normal distribution - skewness and kurtosis"
      ]
    },
    {
      "cell_type": "code",
      "execution_count": null,
      "metadata": {
        "colab": {
          "base_uri": "https://localhost:8080/"
        },
        "id": "UMCsuXyq2-gJ",
        "outputId": "2f16d1db-26d8-4c5a-b3eb-79b22aa7eb08"
      },
      "outputs": [
        {
          "name": "stdout",
          "output_type": "stream",
          "text": [
            "No. of features: 15 \n",
            " fasting_blood_sugar_gt_120_mg_per_dl      2\n",
            "sex                                       2\n",
            "exercise_induced_angina                   2\n",
            "heart_disease_present                     2\n",
            "slope_of_peak_exercise_st_segment         3\n",
            "thal                                      3\n",
            "resting_ekg_results                       3\n",
            "chest_pain_type                           4\n",
            "num_major_vessels                         4\n",
            "oldpeak_eq_st_depression                 34\n",
            "resting_blood_pressure                   36\n",
            "age                                      40\n",
            "max_heart_rate_achieved                  73\n",
            "serum_cholesterol_mg_per_dl             118\n",
            "patient_id                              180\n",
            "dtype: int64\n"
          ]
        }
      ],
      "source": [
        "print('No. of features:',len(df.columns),'\\n',df.nunique().sort_values())"
      ]
    },
    {
      "cell_type": "markdown",
      "metadata": {
        "id": "sO4lki_Y647N"
      },
      "source": [
        "*  Less number of unique values are analyzed are categorical features"
      ]
    },
    {
      "cell_type": "markdown",
      "metadata": {
        "id": "QmV37kdV7eZ1"
      },
      "source": [
        "NUMERICAL COLUMNS :"
      ]
    },
    {
      "cell_type": "code",
      "execution_count": null,
      "metadata": {
        "colab": {
          "base_uri": "https://localhost:8080/"
        },
        "id": "duepenW_2U8T",
        "outputId": "d460707c-0fad-4ec6-ed02-1be1312ee79c"
      },
      "outputs": [
        {
          "name": "stdout",
          "output_type": "stream",
          "text": [
            "5\n",
            "['oldpeak_eq_st_depression', 'resting_blood_pressure', 'age', 'max_heart_rate_achieved', 'serum_cholesterol_mg_per_dl']\n"
          ]
        }
      ],
      "source": [
        "num_col=\"oldpeak_eq_st_depression resting_blood_pressure age max_heart_rate_achieved serum_cholesterol_mg_per_dl\".split()\n",
        "print(len(num_col),num_col,sep=\"\\n\")"
      ]
    },
    {
      "cell_type": "markdown",
      "metadata": {
        "id": "8CBhJb6S_RXd"
      },
      "source": [
        "* For the above continuous variable , we need to understand the distributions (central tendency and spread)\n",
        "   \n",
        "   * Using some visualization methods "
      ]
    },
    {
      "cell_type": "code",
      "execution_count": null,
      "metadata": {
        "colab": {
          "base_uri": "https://localhost:8080/",
          "height": 1000
        },
        "id": "ZUIdXtcXCpwo",
        "outputId": "98452558-6449-4cb7-d3b5-dc635727353a"
      },
      "outputs": [
        {
          "data": {
            "image/png": "[encoded data removed]",
            "text/plain": [
              "<Figure size 872x288 with 1 Axes>"
            ]
          },
          "metadata": {},
          "output_type": "display_data"
        },
        {
          "data": {
            "image/png": "[encoded data removed]",
            "text/plain": [
              "<Figure size 872x288 with 1 Axes>"
            ]
          },
          "metadata": {},
          "output_type": "display_data"
        },
        {
          "data": {
            "image/png": "[encoded data removed]",
            "text/plain": [
              "<Figure size 872x288 with 1 Axes>"
            ]
          },
          "metadata": {},
          "output_type": "display_data"
        },
        {
          "data": {
            "image/png": "[encoded data removed]",
            "text/plain": [
              "<Figure size 872x288 with 1 Axes>"
            ]
          },
          "metadata": {},
          "output_type": "display_data"
        },
        {
          "data": {
            "image/png": "[encoded data removed]",
            "text/plain": [
              "<Figure size 872x288 with 1 Axes>"
            ]
          },
          "metadata": {},
          "output_type": "display_data"
        }
      ],
      "source": [
        "for i,col in enumerate(num_col,1):\n",
        "    sns.FacetGrid(df,height=4,aspect=3,palette='cool')\\\n",
        "    .map(sns.distplot,col,rug=True,bins=15)\\\n",
        "    .add_legend()\n",
        "plt.show()"
      ]
    },
    {
      "cell_type": "code",
      "execution_count": null,
      "metadata": {
        "colab": {
          "base_uri": "https://localhost:8080/"
        },
        "id": "Xd1mnf3aBnxL",
        "outputId": "6fdb7bb2-3bb8-4e4a-d718-b175020f2221"
      },
      "outputs": [
        {
          "name": "stdout",
          "output_type": "stream",
          "text": [
            "oldpeak_eq_st_depression skewness : 1.51\n",
            "resting_blood_pressure skewness : 0.66\n",
            "age skewness : -0.2\n",
            "max_heart_rate_achieved skewness : -0.39\n",
            "serum_cholesterol_mg_per_dl skewness : 1.27\n"
          ]
        }
      ],
      "source": [
        "for i,col in enumerate(num_col,1):\n",
        "    print(col,'skewness :',round(X[col].skew(),2))"
      ]
    },
    {
      "cell_type": "markdown",
      "metadata": {
        "id": "BYmjHn5wEXCL"
      },
      "source": [
        "*  We can see **skewness** is present only in `oldpeak_eq_st_depression`  and `serum_cholesterol_mg_per_dl skewness` "
      ]
    },
    {
      "cell_type": "code",
      "execution_count": null,
      "metadata": {
        "colab": {
          "base_uri": "https://localhost:8080/",
          "height": 592
        },
        "id": "rDLHNUrZlgvK",
        "outputId": "3c1c65ef-72ea-4dfa-8e42-89870b8a096b"
      },
      "outputs": [
        {
          "data": {
            "image/png": "[encoded data removed]",
            "text/plain": [
              "<Figure size 1296x720 with 1 Axes>"
            ]
          },
          "metadata": {},
          "output_type": "display_data"
        }
      ],
      "source": [
        "plt.figure(figsize=(18,10))\n",
        "ax = sns.boxplot(data=X[num_col],orient='h')\n"
      ]
    },
    {
      "cell_type": "markdown",
      "metadata": {
        "id": "iz9IX-IgnGgq"
      },
      "source": [
        "From above outlier detection ,\n",
        "\n",
        "  *  oldpeak_eq_st_depression \n",
        "  *  resting_blood_pressure \n",
        "  *  serum_cholesterol_mg_per_dl has outliers\n"
      ]
    },
    {
      "cell_type": "markdown",
      "metadata": {
        "id": "FH28-9leqRY_"
      },
      "source": [
        "Numerical features are distributed in different ranges"
      ]
    },
    {
      "cell_type": "markdown",
      "metadata": {
        "id": "0WvbkZOYuc8W"
      },
      "source": [
        "CATEGORICAL COLUMNS :"
      ]
    },
    {
      "cell_type": "markdown",
      "metadata": {
        "id": "G7qMCGqcFB1a"
      },
      "source": [
        "OUTLIERS DETECTION :"
      ]
    },
    {
      "cell_type": "markdown",
      "metadata": {
        "id": "8WzGwk3MfPuV"
      },
      "source": [
        "Columns that contain string"
      ]
    },
    {
      "cell_type": "code",
      "execution_count": null,
      "metadata": {
        "colab": {
          "base_uri": "https://localhost:8080/"
        },
        "id": "DaV1DmAMbqf0",
        "outputId": "0f964c85-e9d9-4d48-b608-c74ade7e5bef"
      },
      "outputs": [
        {
          "name": "stdout",
          "output_type": "stream",
          "text": [
            "patient_id\n",
            "thal\n"
          ]
        }
      ],
      "source": [
        "for label, content in df.items():\n",
        "  if pd.api.types.is_string_dtype(content):\n",
        "    print(label)"
      ]
    },
    {
      "cell_type": "markdown",
      "metadata": {
        "id": "GEAs-J4ige8N"
      },
      "source": [
        "*  To covert categorical data(object type) to numerical data \n",
        "    \n",
        "    *  covert string values to categorical values\n",
        "    * categorical values to numerical values"
      ]
    },
    {
      "cell_type": "markdown",
      "metadata": {
        "id": "kDCm1hRTqXMl"
      },
      "source": [
        "### Coverting string datatype to categorical values :"
      ]
    },
    {
      "cell_type": "code",
      "execution_count": null,
      "metadata": {
        "id": "tLWm-y6IhuLz"
      },
      "outputs": [],
      "source": [
        "for label, content in df.items():\n",
        "  if pd.api.types.is_string_dtype(content):\n",
        "    df[label] = content.astype(\"category\").cat.as_ordered()"
      ]
    },
    {
      "cell_type": "code",
      "execution_count": null,
      "metadata": {
        "colab": {
          "base_uri": "https://localhost:8080/"
        },
        "id": "pjilwHCDiC6t",
        "outputId": "1f25b582-5de0-4295-8814-71e0263ecb29"
      },
      "outputs": [
        {
          "name": "stdout",
          "output_type": "stream",
          "text": [
            "<class 'pandas.core.frame.DataFrame'>\n",
            "Int64Index: 180 entries, 0 to 179\n",
            "Data columns (total 15 columns):\n",
            " #   Column                                Non-Null Count  Dtype   \n",
            "---  ------                                --------------  -----   \n",
            " 0   patient_id                            180 non-null    category\n",
            " 1   slope_of_peak_exercise_st_segment     180 non-null    int64   \n",
            " 2   thal                                  180 non-null    category\n",
            " 3   resting_blood_pressure                180 non-null    int64   \n",
            " 4   chest_pain_type                       180 non-null    int64   \n",
            " 5   num_major_vessels                     180 non-null    int64   \n",
            " 6   fasting_blood_sugar_gt_120_mg_per_dl  180 non-null    int64   \n",
            " 7   resting_ekg_results                   180 non-null    int64   \n",
            " 8   serum_cholesterol_mg_per_dl           180 non-null    int64   \n",
            " 9   oldpeak_eq_st_depression              180 non-null    float64 \n",
            " 10  sex                                   180 non-null    int64   \n",
            " 11  age                                   180 non-null    int64   \n",
            " 12  max_heart_rate_achieved               180 non-null    int64   \n",
            " 13  exercise_induced_angina               180 non-null    int64   \n",
            " 14  heart_disease_present                 180 non-null    int64   \n",
            "dtypes: category(2), float64(1), int64(12)\n",
            "memory usage: 25.8 KB\n"
          ]
        }
      ],
      "source": [
        "df.info()"
      ]
    },
    {
      "cell_type": "markdown",
      "metadata": {
        "id": "Z9e0sR12rAMH"
      },
      "source": [
        "### Converting categorical values to integer datatype :"
      ]
    },
    {
      "cell_type": "code",
      "execution_count": null,
      "metadata": {
        "id": "wJsLyLEPib0E"
      },
      "outputs": [],
      "source": [
        "for label, content in df.items():\n",
        "  if not pd.api.types.is_numeric_dtype(content):\n",
        "    df[label] = pd.Categorical(content).codes"
      ]
    },
    {
      "cell_type": "code",
      "execution_count": null,
      "metadata": {
        "colab": {
          "base_uri": "https://localhost:8080/"
        },
        "id": "eyp_aOv4imZJ",
        "outputId": "819e601b-673d-4395-f4d0-3dc9d4426d5e"
      },
      "outputs": [
        {
          "name": "stdout",
          "output_type": "stream",
          "text": [
            "<class 'pandas.core.frame.DataFrame'>\n",
            "Int64Index: 180 entries, 0 to 179\n",
            "Data columns (total 15 columns):\n",
            " #   Column                                Non-Null Count  Dtype  \n",
            "---  ------                                --------------  -----  \n",
            " 0   patient_id                            180 non-null    int16  \n",
            " 1   slope_of_peak_exercise_st_segment     180 non-null    int64  \n",
            " 2   thal                                  180 non-null    int8   \n",
            " 3   resting_blood_pressure                180 non-null    int64  \n",
            " 4   chest_pain_type                       180 non-null    int64  \n",
            " 5   num_major_vessels                     180 non-null    int64  \n",
            " 6   fasting_blood_sugar_gt_120_mg_per_dl  180 non-null    int64  \n",
            " 7   resting_ekg_results                   180 non-null    int64  \n",
            " 8   serum_cholesterol_mg_per_dl           180 non-null    int64  \n",
            " 9   oldpeak_eq_st_depression              180 non-null    float64\n",
            " 10  sex                                   180 non-null    int64  \n",
            " 11  age                                   180 non-null    int64  \n",
            " 12  max_heart_rate_achieved               180 non-null    int64  \n",
            " 13  exercise_induced_angina               180 non-null    int64  \n",
            " 14  heart_disease_present                 180 non-null    int64  \n",
            "dtypes: float64(1), int16(1), int64(12), int8(1)\n",
            "memory usage: 20.2 KB\n"
          ]
        }
      ],
      "source": [
        "df.info()"
      ]
    },
    {
      "cell_type": "markdown",
      "metadata": {
        "id": "0fHqIzEkrcgx"
      },
      "source": [
        "### Coverting float values to categorical datatype :"
      ]
    },
    {
      "cell_type": "code",
      "execution_count": null,
      "metadata": {
        "id": "AbIHZLPlpgPf"
      },
      "outputs": [],
      "source": [
        "for label, content in df.items():\n",
        "  if pd.api.types.is_float_dtype(content):\n",
        "    df[label] = content.astype(\"category\").cat.as_ordered()"
      ]
    },
    {
      "cell_type": "code",
      "execution_count": null,
      "metadata": {
        "colab": {
          "base_uri": "https://localhost:8080/"
        },
        "id": "r_8OWzMrpm36",
        "outputId": "d804e4aa-3da0-4f92-feaa-0f531e5783dd"
      },
      "outputs": [
        {
          "name": "stdout",
          "output_type": "stream",
          "text": [
            "<class 'pandas.core.frame.DataFrame'>\n",
            "Int64Index: 180 entries, 0 to 179\n",
            "Data columns (total 15 columns):\n",
            " #   Column                                Non-Null Count  Dtype   \n",
            "---  ------                                --------------  -----   \n",
            " 0   patient_id                            180 non-null    int16   \n",
            " 1   slope_of_peak_exercise_st_segment     180 non-null    int64   \n",
            " 2   thal                                  180 non-null    int8    \n",
            " 3   resting_blood_pressure                180 non-null    int64   \n",
            " 4   chest_pain_type                       180 non-null    int64   \n",
            " 5   num_major_vessels                     180 non-null    int64   \n",
            " 6   fasting_blood_sugar_gt_120_mg_per_dl  180 non-null    int64   \n",
            " 7   resting_ekg_results                   180 non-null    int64   \n",
            " 8   serum_cholesterol_mg_per_dl           180 non-null    int64   \n",
            " 9   oldpeak_eq_st_depression              180 non-null    category\n",
            " 10  sex                                   180 non-null    int64   \n",
            " 11  age                                   180 non-null    int64   \n",
            " 12  max_heart_rate_achieved               180 non-null    int64   \n",
            " 13  exercise_induced_angina               180 non-null    int64   \n",
            " 14  heart_disease_present                 180 non-null    int64   \n",
            "dtypes: category(1), int16(1), int64(12), int8(1)\n",
            "memory usage: 20.3 KB\n"
          ]
        }
      ],
      "source": [
        "df.info()"
      ]
    },
    {
      "cell_type": "markdown",
      "metadata": {
        "id": "JoaBlVP9sFM9"
      },
      "source": [
        "### Converting categorical to interger datatype :"
      ]
    },
    {
      "cell_type": "code",
      "execution_count": null,
      "metadata": {
        "id": "mzMX5lurpsZS"
      },
      "outputs": [],
      "source": [
        "for label, content in df.items():\n",
        "  if not pd.api.types.is_numeric_dtype(content):\n",
        "    df[label] = pd.Categorical(content).codes"
      ]
    },
    {
      "cell_type": "code",
      "execution_count": null,
      "metadata": {
        "colab": {
          "base_uri": "https://localhost:8080/"
        },
        "id": "nKaPaymMp6uT",
        "outputId": "91982022-8b6c-49ac-f14a-a5298d70b18c"
      },
      "outputs": [
        {
          "name": "stdout",
          "output_type": "stream",
          "text": [
            "<class 'pandas.core.frame.DataFrame'>\n",
            "Int64Index: 180 entries, 0 to 179\n",
            "Data columns (total 15 columns):\n",
            " #   Column                                Non-Null Count  Dtype\n",
            "---  ------                                --------------  -----\n",
            " 0   patient_id                            180 non-null    int16\n",
            " 1   slope_of_peak_exercise_st_segment     180 non-null    int64\n",
            " 2   thal                                  180 non-null    int8 \n",
            " 3   resting_blood_pressure                180 non-null    int64\n",
            " 4   chest_pain_type                       180 non-null    int64\n",
            " 5   num_major_vessels                     180 non-null    int64\n",
            " 6   fasting_blood_sugar_gt_120_mg_per_dl  180 non-null    int64\n",
            " 7   resting_ekg_results                   180 non-null    int64\n",
            " 8   serum_cholesterol_mg_per_dl           180 non-null    int64\n",
            " 9   oldpeak_eq_st_depression              180 non-null    int8 \n",
            " 10  sex                                   180 non-null    int64\n",
            " 11  age                                   180 non-null    int64\n",
            " 12  max_heart_rate_achieved               180 non-null    int64\n",
            " 13  exercise_induced_angina               180 non-null    int64\n",
            " 14  heart_disease_present                 180 non-null    int64\n",
            "dtypes: int16(1), int64(12), int8(2)\n",
            "memory usage: 19.0 KB\n"
          ]
        }
      ],
      "source": [
        "df.info()"
      ]
    },
    {
      "cell_type": "code",
      "execution_count": null,
      "metadata": {
        "colab": {
          "base_uri": "https://localhost:8080/"
        },
        "id": "lVCVxCD8cEYY",
        "outputId": "6da2e06c-c7b7-4b34-e907-b61104f74f37"
      },
      "outputs": [
        {
          "data": {
            "text/plain": [
              "patient_id                              0\n",
              "slope_of_peak_exercise_st_segment       0\n",
              "thal                                    0\n",
              "resting_blood_pressure                  0\n",
              "chest_pain_type                         0\n",
              "num_major_vessels                       0\n",
              "fasting_blood_sugar_gt_120_mg_per_dl    0\n",
              "resting_ekg_results                     0\n",
              "serum_cholesterol_mg_per_dl             0\n",
              "oldpeak_eq_st_depression                0\n",
              "sex                                     0\n",
              "age                                     0\n",
              "max_heart_rate_achieved                 0\n",
              "exercise_induced_angina                 0\n",
              "dtype: int64"
            ]
          },
          "execution_count": 55,
          "metadata": {},
          "output_type": "execute_result"
        }
      ],
      "source": [
        "X.isna().sum()"
      ]
    },
    {
      "cell_type": "markdown",
      "metadata": {
        "id": "afXMyFX_tJ2N"
      },
      "source": [
        "* Data is ready to fit in a model, as we converted everything to Numerical data.\n",
        "\n",
        "* Lets check corelation by dropping patient_id column."
      ]
    },
    {
      "cell_type": "code",
      "execution_count": null,
      "metadata": {
        "id": "F1SeJM5rtXft"
      },
      "outputs": [],
      "source": [
        "df=df.drop('patient_id',axis=1)"
      ]
    },
    {
      "cell_type": "code",
      "execution_count": null,
      "metadata": {
        "colab": {
          "base_uri": "https://localhost:8080/",
          "height": 270
        },
        "id": "PMRdP6T2vUJv",
        "outputId": "06457361-db40-4162-aef3-5ad132088956"
      },
      "outputs": [
        {
          "data": {
            "text/html": [
              "\n",
              "  <div id=\"df-cecc6ca1-1b8c-439b-9177-89f567a02d0c\">\n",
              "    <div class=\"colab-df-container\">\n",
              "      <div>\n",
              "<style scoped>\n",
              "    .dataframe tbody tr th:only-of-type {\n",
              "        vertical-align: middle;\n",
              "    }\n",
              "\n",
              "    .dataframe tbody tr th {\n",
              "        vertical-align: top;\n",
              "    }\n",
              "\n",
              "    .dataframe thead th {\n",
              "        text-align: right;\n",
              "    }\n",
              "</style>\n",
              "<table border=\"1\" class=\"dataframe\">\n",
              "  <thead>\n",
              "    <tr style=\"text-align: right;\">\n",
              "      <th></th>\n",
              "      <th>slope_of_peak_exercise_st_segment</th>\n",
              "      <th>thal</th>\n",
              "      <th>resting_blood_pressure</th>\n",
              "      <th>chest_pain_type</th>\n",
              "      <th>num_major_vessels</th>\n",
              "      <th>fasting_blood_sugar_gt_120_mg_per_dl</th>\n",
              "      <th>resting_ekg_results</th>\n",
              "      <th>serum_cholesterol_mg_per_dl</th>\n",
              "      <th>oldpeak_eq_st_depression</th>\n",
              "      <th>sex</th>\n",
              "      <th>age</th>\n",
              "      <th>max_heart_rate_achieved</th>\n",
              "      <th>exercise_induced_angina</th>\n",
              "      <th>heart_disease_present</th>\n",
              "    </tr>\n",
              "  </thead>\n",
              "  <tbody>\n",
              "    <tr>\n",
              "      <th>0</th>\n",
              "      <td>1</td>\n",
              "      <td>1</td>\n",
              "      <td>128</td>\n",
              "      <td>2</td>\n",
              "      <td>0</td>\n",
              "      <td>0</td>\n",
              "      <td>2</td>\n",
              "      <td>308</td>\n",
              "      <td>0</td>\n",
              "      <td>1</td>\n",
              "      <td>45</td>\n",
              "      <td>170</td>\n",
              "      <td>0</td>\n",
              "      <td>0</td>\n",
              "    </tr>\n",
              "    <tr>\n",
              "      <th>1</th>\n",
              "      <td>2</td>\n",
              "      <td>1</td>\n",
              "      <td>110</td>\n",
              "      <td>3</td>\n",
              "      <td>0</td>\n",
              "      <td>0</td>\n",
              "      <td>0</td>\n",
              "      <td>214</td>\n",
              "      <td>16</td>\n",
              "      <td>0</td>\n",
              "      <td>54</td>\n",
              "      <td>158</td>\n",
              "      <td>0</td>\n",
              "      <td>0</td>\n",
              "    </tr>\n",
              "    <tr>\n",
              "      <th>2</th>\n",
              "      <td>1</td>\n",
              "      <td>1</td>\n",
              "      <td>125</td>\n",
              "      <td>4</td>\n",
              "      <td>3</td>\n",
              "      <td>0</td>\n",
              "      <td>2</td>\n",
              "      <td>304</td>\n",
              "      <td>0</td>\n",
              "      <td>1</td>\n",
              "      <td>77</td>\n",
              "      <td>162</td>\n",
              "      <td>1</td>\n",
              "      <td>1</td>\n",
              "    </tr>\n",
              "    <tr>\n",
              "      <th>3</th>\n",
              "      <td>1</td>\n",
              "      <td>2</td>\n",
              "      <td>152</td>\n",
              "      <td>4</td>\n",
              "      <td>0</td>\n",
              "      <td>0</td>\n",
              "      <td>0</td>\n",
              "      <td>223</td>\n",
              "      <td>0</td>\n",
              "      <td>1</td>\n",
              "      <td>40</td>\n",
              "      <td>181</td>\n",
              "      <td>0</td>\n",
              "      <td>1</td>\n",
              "    </tr>\n",
              "    <tr>\n",
              "      <th>4</th>\n",
              "      <td>3</td>\n",
              "      <td>2</td>\n",
              "      <td>178</td>\n",
              "      <td>1</td>\n",
              "      <td>0</td>\n",
              "      <td>0</td>\n",
              "      <td>2</td>\n",
              "      <td>270</td>\n",
              "      <td>31</td>\n",
              "      <td>1</td>\n",
              "      <td>59</td>\n",
              "      <td>145</td>\n",
              "      <td>0</td>\n",
              "      <td>0</td>\n",
              "    </tr>\n",
              "  </tbody>\n",
              "</table>\n",
              "</div>\n",
              "      <button class=\"colab-df-convert\" onclick=\"convertToInteractive('df-cecc6ca1-1b8c-439b-9177-89f567a02d0c')\"\n",
              "              title=\"Convert this dataframe to an interactive table.\"\n",
              "              style=\"display:none;\">\n",
              "        \n",
              "  <svg xmlns=\"http://www.w3.org/2000/svg\" height=\"24px\"viewBox=\"0 0 24 24\"\n",
              "       width=\"24px\">\n",
              "    <path d=\"M0 0h24v24H0V0z\" fill=\"none\"/>\n",
              "    <path d=\"M18.56 5.44l.94 2.06.94-2.06 2.06-.94-2.06-.94-.94-2.06-.94 2.06-2.06.94zm-11 1L8.5 8.5l.94-2.06 2.06-.94-2.06-.94L8.5 2.5l-.94 2.06-2.06.94zm10 10l.94 2.06.94-2.06 2.06-.94-2.06-.94-.94-2.06-.94 2.06-2.06.94z\"/><path d=\"M17.41 7.96l-1.37-1.37c-.4-.4-.92-.59-1.43-.59-.52 0-1.04.2-1.43.59L10.3 9.45l-7.72 7.72c-.78.78-.78 2.05 0 2.83L4 21.41c.39.39.9.59 1.41.59.51 0 1.02-.2 1.41-.59l7.78-7.78 2.81-2.81c.8-.78.8-2.07 0-2.86zM5.41 20L4 18.59l7.72-7.72 1.47 1.35L5.41 20z\"/>\n",
              "  </svg>\n",
              "      </button>\n",
              "      \n",
              "  <style>\n",
              "    .colab-df-container {\n",
              "      display:flex;\n",
              "      flex-wrap:wrap;\n",
              "      gap: 12px;\n",
              "    }\n",
              "\n",
              "    .colab-df-convert {\n",
              "      background-color: #E8F0FE;\n",
              "      border: none;\n",
              "      border-radius: 50%;\n",
              "      cursor: pointer;\n",
              "      display: none;\n",
              "      fill: #1967D2;\n",
              "      height: 32px;\n",
              "      padding: 0 0 0 0;\n",
              "      width: 32px;\n",
              "    }\n",
              "\n",
              "    .colab-df-convert:hover {\n",
              "      background-color: #E2EBFA;\n",
              "      box-shadow: 0px 1px 2px rgba(60, 64, 67, 0.3), 0px 1px 3px 1px rgba(60, 64, 67, 0.15);\n",
              "      fill: #174EA6;\n",
              "    }\n",
              "\n",
              "    [theme=dark] .colab-df-convert {\n",
              "      background-color: #3B4455;\n",
              "      fill: #D2E3FC;\n",
              "    }\n",
              "\n",
              "    [theme=dark] .colab-df-convert:hover {\n",
              "      background-color: #434B5C;\n",
              "      box-shadow: 0px 1px 3px 1px rgba(0, 0, 0, 0.15);\n",
              "      filter: drop-shadow(0px 1px 2px rgba(0, 0, 0, 0.3));\n",
              "      fill: #FFFFFF;\n",
              "    }\n",
              "  </style>\n",
              "\n",
              "      <script>\n",
              "        const buttonEl =\n",
              "          document.querySelector('#df-cecc6ca1-1b8c-439b-9177-89f567a02d0c button.colab-df-convert');\n",
              "        buttonEl.style.display =\n",
              "          google.colab.kernel.accessAllowed ? 'block' : 'none';\n",
              "\n",
              "        async function convertToInteractive(key) {\n",
              "          const element = document.querySelector('#df-cecc6ca1-1b8c-439b-9177-89f567a02d0c');\n",
              "          const dataTable =\n",
              "            await google.colab.kernel.invokeFunction('convertToInteractive',\n",
              "                                                     [key], {});\n",
              "          if (!dataTable) return;\n",
              "\n",
              "          const docLinkHtml = 'Like what you see? Visit the ' +\n",
              "            '<a target=\"_blank\" href=https://colab.research.google.com/notebooks/data_table.ipynb>data table notebook</a>'\n",
              "            + ' to learn more about interactive tables.';\n",
              "          element.innerHTML = '';\n",
              "          dataTable['output_type'] = 'display_data';\n",
              "          await google.colab.output.renderOutput(dataTable, element);\n",
              "          const docLink = document.createElement('div');\n",
              "          docLink.innerHTML = docLinkHtml;\n",
              "          element.appendChild(docLink);\n",
              "        }\n",
              "      </script>\n",
              "    </div>\n",
              "  </div>\n",
              "  "
            ],
            "text/plain": [
              "   slope_of_peak_exercise_st_segment  thal  resting_blood_pressure  \\\n",
              "0                                  1     1                     128   \n",
              "1                                  2     1                     110   \n",
              "2                                  1     1                     125   \n",
              "3                                  1     2                     152   \n",
              "4                                  3     2                     178   \n",
              "\n",
              "   chest_pain_type  num_major_vessels  fasting_blood_sugar_gt_120_mg_per_dl  \\\n",
              "0                2                  0                                     0   \n",
              "1                3                  0                                     0   \n",
              "2                4                  3                                     0   \n",
              "3                4                  0                                     0   \n",
              "4                1                  0                                     0   \n",
              "\n",
              "   resting_ekg_results  serum_cholesterol_mg_per_dl  oldpeak_eq_st_depression  \\\n",
              "0                    2                          308                         0   \n",
              "1                    0                          214                        16   \n",
              "2                    2                          304                         0   \n",
              "3                    0                          223                         0   \n",
              "4                    2                          270                        31   \n",
              "\n",
              "   sex  age  max_heart_rate_achieved  exercise_induced_angina  \\\n",
              "0    1   45                      170                        0   \n",
              "1    0   54                      158                        0   \n",
              "2    1   77                      162                        1   \n",
              "3    1   40                      181                        0   \n",
              "4    1   59                      145                        0   \n",
              "\n",
              "   heart_disease_present  \n",
              "0                      0  \n",
              "1                      0  \n",
              "2                      1  \n",
              "3                      1  \n",
              "4                      0  "
            ]
          },
          "execution_count": 57,
          "metadata": {},
          "output_type": "execute_result"
        }
      ],
      "source": [
        "df.head()"
      ]
    },
    {
      "cell_type": "markdown",
      "metadata": {
        "id": "6KyL7Ut6wIIo"
      },
      "source": [
        "**MODELLING** "
      ]
    },
    {
      "cell_type": "markdown",
      "metadata": {
        "id": "oizJFg7A1RrC"
      },
      "source": [
        "*  Data modelling by splitting the training and testing data"
      ]
    },
    {
      "cell_type": "code",
      "execution_count": null,
      "metadata": {
        "id": "Djr4lgT7wYpM"
      },
      "outputs": [],
      "source": [
        "X=df.loc[:,[\"slope_of_peak_exercise_st_segment\",\"thal\",\"resting_blood_pressure\",\"chest_pain_type\",\"num_major_vessels\",\"fasting_blood_sugar_gt_120_mg_per_dl\",\"resting_ekg_results\",\"serum_cholesterol_mg_per_dl\",\"oldpeak_eq_st_depression\",\n",
        "\"sex\",\"age\",\"max_heart_rate_achieved\",\"exercise_induced_angina\"]]"
      ]
    },
    {
      "cell_type": "code",
      "execution_count": null,
      "metadata": {
        "colab": {
          "background_save": true,
          "base_uri": "https://localhost:8080/",
          "height": 270
        },
        "id": "E7nG244T5Gul",
        "outputId": "63480791-13f9-40ee-ab3b-e330236153b0"
      },
      "outputs": [
        {
          "data": {
            "text/html": [
              "\n",
              "  <div id=\"df-8ca74733-dcd7-47d9-a00e-c96bfeafd696\">\n",
              "    <div class=\"colab-df-container\">\n",
              "      <div>\n",
              "<style scoped>\n",
              "    .dataframe tbody tr th:only-of-type {\n",
              "        vertical-align: middle;\n",
              "    }\n",
              "\n",
              "    .dataframe tbody tr th {\n",
              "        vertical-align: top;\n",
              "    }\n",
              "\n",
              "    .dataframe thead th {\n",
              "        text-align: right;\n",
              "    }\n",
              "</style>\n",
              "<table border=\"1\" class=\"dataframe\">\n",
              "  <thead>\n",
              "    <tr style=\"text-align: right;\">\n",
              "      <th></th>\n",
              "      <th>patient_id</th>\n",
              "      <th>slope_of_peak_exercise_st_segment</th>\n",
              "      <th>thal</th>\n",
              "      <th>resting_blood_pressure</th>\n",
              "      <th>chest_pain_type</th>\n",
              "      <th>num_major_vessels</th>\n",
              "      <th>fasting_blood_sugar_gt_120_mg_per_dl</th>\n",
              "      <th>resting_ekg_results</th>\n",
              "      <th>serum_cholesterol_mg_per_dl</th>\n",
              "      <th>oldpeak_eq_st_depression</th>\n",
              "      <th>sex</th>\n",
              "      <th>age</th>\n",
              "      <th>max_heart_rate_achieved</th>\n",
              "      <th>exercise_induced_angina</th>\n",
              "    </tr>\n",
              "  </thead>\n",
              "  <tbody>\n",
              "    <tr>\n",
              "      <th>0</th>\n",
              "      <td>0z64un</td>\n",
              "      <td>1</td>\n",
              "      <td>normal</td>\n",
              "      <td>128</td>\n",
              "      <td>2</td>\n",
              "      <td>0</td>\n",
              "      <td>0</td>\n",
              "      <td>2</td>\n",
              "      <td>308</td>\n",
              "      <td>0.0</td>\n",
              "      <td>1</td>\n",
              "      <td>45</td>\n",
              "      <td>170</td>\n",
              "      <td>0</td>\n",
              "    </tr>\n",
              "    <tr>\n",
              "      <th>1</th>\n",
              "      <td>ryoo3j</td>\n",
              "      <td>2</td>\n",
              "      <td>normal</td>\n",
              "      <td>110</td>\n",
              "      <td>3</td>\n",
              "      <td>0</td>\n",
              "      <td>0</td>\n",
              "      <td>0</td>\n",
              "      <td>214</td>\n",
              "      <td>1.6</td>\n",
              "      <td>0</td>\n",
              "      <td>54</td>\n",
              "      <td>158</td>\n",
              "      <td>0</td>\n",
              "    </tr>\n",
              "    <tr>\n",
              "      <th>2</th>\n",
              "      <td>yt1s1x</td>\n",
              "      <td>1</td>\n",
              "      <td>normal</td>\n",
              "      <td>125</td>\n",
              "      <td>4</td>\n",
              "      <td>3</td>\n",
              "      <td>0</td>\n",
              "      <td>2</td>\n",
              "      <td>304</td>\n",
              "      <td>0.0</td>\n",
              "      <td>1</td>\n",
              "      <td>77</td>\n",
              "      <td>162</td>\n",
              "      <td>1</td>\n",
              "    </tr>\n",
              "    <tr>\n",
              "      <th>3</th>\n",
              "      <td>l2xjde</td>\n",
              "      <td>1</td>\n",
              "      <td>reversible_defect</td>\n",
              "      <td>152</td>\n",
              "      <td>4</td>\n",
              "      <td>0</td>\n",
              "      <td>0</td>\n",
              "      <td>0</td>\n",
              "      <td>223</td>\n",
              "      <td>0.0</td>\n",
              "      <td>1</td>\n",
              "      <td>40</td>\n",
              "      <td>181</td>\n",
              "      <td>0</td>\n",
              "    </tr>\n",
              "    <tr>\n",
              "      <th>4</th>\n",
              "      <td>oyt4ek</td>\n",
              "      <td>3</td>\n",
              "      <td>reversible_defect</td>\n",
              "      <td>178</td>\n",
              "      <td>1</td>\n",
              "      <td>0</td>\n",
              "      <td>0</td>\n",
              "      <td>2</td>\n",
              "      <td>270</td>\n",
              "      <td>4.2</td>\n",
              "      <td>1</td>\n",
              "      <td>59</td>\n",
              "      <td>145</td>\n",
              "      <td>0</td>\n",
              "    </tr>\n",
              "  </tbody>\n",
              "</table>\n",
              "</div>\n",
              "      <button class=\"colab-df-convert\" onclick=\"convertToInteractive('df-8ca74733-dcd7-47d9-a00e-c96bfeafd696')\"\n",
              "              title=\"Convert this dataframe to an interactive table.\"\n",
              "              style=\"display:none;\">\n",
              "        \n",
              "  <svg xmlns=\"http://www.w3.org/2000/svg\" height=\"24px\"viewBox=\"0 0 24 24\"\n",
              "       width=\"24px\">\n",
              "    <path d=\"M0 0h24v24H0V0z\" fill=\"none\"/>\n",
              "    <path d=\"M18.56 5.44l.94 2.06.94-2.06 2.06-.94-2.06-.94-.94-2.06-.94 2.06-2.06.94zm-11 1L8.5 8.5l.94-2.06 2.06-.94-2.06-.94L8.5 2.5l-.94 2.06-2.06.94zm10 10l.94 2.06.94-2.06 2.06-.94-2.06-.94-.94-2.06-.94 2.06-2.06.94z\"/><path d=\"M17.41 7.96l-1.37-1.37c-.4-.4-.92-.59-1.43-.59-.52 0-1.04.2-1.43.59L10.3 9.45l-7.72 7.72c-.78.78-.78 2.05 0 2.83L4 21.41c.39.39.9.59 1.41.59.51 0 1.02-.2 1.41-.59l7.78-7.78 2.81-2.81c.8-.78.8-2.07 0-2.86zM5.41 20L4 18.59l7.72-7.72 1.47 1.35L5.41 20z\"/>\n",
              "  </svg>\n",
              "      </button>\n",
              "      \n",
              "  <style>\n",
              "    .colab-df-container {\n",
              "      display:flex;\n",
              "      flex-wrap:wrap;\n",
              "      gap: 12px;\n",
              "    }\n",
              "\n",
              "    .colab-df-convert {\n",
              "      background-color: #E8F0FE;\n",
              "      border: none;\n",
              "      border-radius: 50%;\n",
              "      cursor: pointer;\n",
              "      display: none;\n",
              "      fill: #1967D2;\n",
              "      height: 32px;\n",
              "      padding: 0 0 0 0;\n",
              "      width: 32px;\n",
              "    }\n",
              "\n",
              "    .colab-df-convert:hover {\n",
              "      background-color: #E2EBFA;\n",
              "      box-shadow: 0px 1px 2px rgba(60, 64, 67, 0.3), 0px 1px 3px 1px rgba(60, 64, 67, 0.15);\n",
              "      fill: #174EA6;\n",
              "    }\n",
              "\n",
              "    [theme=dark] .colab-df-convert {\n",
              "      background-color: #3B4455;\n",
              "      fill: #D2E3FC;\n",
              "    }\n",
              "\n",
              "    [theme=dark] .colab-df-convert:hover {\n",
              "      background-color: #434B5C;\n",
              "      box-shadow: 0px 1px 3px 1px rgba(0, 0, 0, 0.15);\n",
              "      filter: drop-shadow(0px 1px 2px rgba(0, 0, 0, 0.3));\n",
              "      fill: #FFFFFF;\n",
              "    }\n",
              "  </style>\n",
              "\n",
              "      <script>\n",
              "        const buttonEl =\n",
              "          document.querySelector('#df-8ca74733-dcd7-47d9-a00e-c96bfeafd696 button.colab-df-convert');\n",
              "        buttonEl.style.display =\n",
              "          google.colab.kernel.accessAllowed ? 'block' : 'none';\n",
              "\n",
              "        async function convertToInteractive(key) {\n",
              "          const element = document.querySelector('#df-8ca74733-dcd7-47d9-a00e-c96bfeafd696');\n",
              "          const dataTable =\n",
              "            await google.colab.kernel.invokeFunction('convertToInteractive',\n",
              "                                                     [key], {});\n",
              "          if (!dataTable) return;\n",
              "\n",
              "          const docLinkHtml = 'Like what you see? Visit the ' +\n",
              "            '<a target=\"_blank\" href=https://colab.research.google.com/notebooks/data_table.ipynb>data table notebook</a>'\n",
              "            + ' to learn more about interactive tables.';\n",
              "          element.innerHTML = '';\n",
              "          dataTable['output_type'] = 'display_data';\n",
              "          await google.colab.output.renderOutput(dataTable, element);\n",
              "          const docLink = document.createElement('div');\n",
              "          docLink.innerHTML = docLinkHtml;\n",
              "          element.appendChild(docLink);\n",
              "        }\n",
              "      </script>\n",
              "    </div>\n",
              "  </div>\n",
              "  "
            ],
            "text/plain": [
              "  patient_id  slope_of_peak_exercise_st_segment               thal  \\\n",
              "0     0z64un                                  1             normal   \n",
              "1     ryoo3j                                  2             normal   \n",
              "2     yt1s1x                                  1             normal   \n",
              "3     l2xjde                                  1  reversible_defect   \n",
              "4     oyt4ek                                  3  reversible_defect   \n",
              "\n",
              "   resting_blood_pressure  chest_pain_type  num_major_vessels  \\\n",
              "0                     128                2                  0   \n",
              "1                     110                3                  0   \n",
              "2                     125                4                  3   \n",
              "3                     152                4                  0   \n",
              "4                     178                1                  0   \n",
              "\n",
              "   fasting_blood_sugar_gt_120_mg_per_dl  resting_ekg_results  \\\n",
              "0                                     0                    2   \n",
              "1                                     0                    0   \n",
              "2                                     0                    2   \n",
              "3                                     0                    0   \n",
              "4                                     0                    2   \n",
              "\n",
              "   serum_cholesterol_mg_per_dl  oldpeak_eq_st_depression  sex  age  \\\n",
              "0                          308                       0.0    1   45   \n",
              "1                          214                       1.6    0   54   \n",
              "2                          304                       0.0    1   77   \n",
              "3                          223                       0.0    1   40   \n",
              "4                          270                       4.2    1   59   \n",
              "\n",
              "   max_heart_rate_achieved  exercise_induced_angina  \n",
              "0                      170                        0  \n",
              "1                      158                        0  \n",
              "2                      162                        1  \n",
              "3                      181                        0  \n",
              "4                      145                        0  "
            ]
          },
          "execution_count": 25,
          "metadata": {},
          "output_type": "execute_result"
        }
      ],
      "source": [
        "X.head()"
      ]
    },
    {
      "cell_type": "code",
      "execution_count": null,
      "metadata": {
        "colab": {
          "background_save": true,
          "base_uri": "https://localhost:8080/"
        },
        "id": "rMKcr-46-7Vj",
        "outputId": "ac96c7d0-257f-4b58-863d-d6063c6995a3"
      },
      "outputs": [
        {
          "data": {
            "text/plain": [
              "(180, 14)"
            ]
          },
          "execution_count": 26,
          "metadata": {},
          "output_type": "execute_result"
        }
      ],
      "source": [
        "X.shape"
      ]
    },
    {
      "cell_type": "code",
      "execution_count": null,
      "metadata": {
        "id": "q8FZBzjt5iuO"
      },
      "outputs": [],
      "source": [
        "Y=df.loc[:,[\"heart_disease_present\"]]"
      ]
    },
    {
      "cell_type": "code",
      "execution_count": null,
      "metadata": {
        "colab": {
          "base_uri": "https://localhost:8080/",
          "height": 206
        },
        "id": "cMI411Jv5wxe",
        "outputId": "3ed2e386-8596-48f1-9ed2-2fc5de94c749"
      },
      "outputs": [
        {
          "data": {
            "text/html": [
              "\n",
              "  <div id=\"df-156e0965-4465-4761-82d5-2c8b9596b9ae\">\n",
              "    <div class=\"colab-df-container\">\n",
              "      <div>\n",
              "<style scoped>\n",
              "    .dataframe tbody tr th:only-of-type {\n",
              "        vertical-align: middle;\n",
              "    }\n",
              "\n",
              "    .dataframe tbody tr th {\n",
              "        vertical-align: top;\n",
              "    }\n",
              "\n",
              "    .dataframe thead th {\n",
              "        text-align: right;\n",
              "    }\n",
              "</style>\n",
              "<table border=\"1\" class=\"dataframe\">\n",
              "  <thead>\n",
              "    <tr style=\"text-align: right;\">\n",
              "      <th></th>\n",
              "      <th>heart_disease_present</th>\n",
              "    </tr>\n",
              "  </thead>\n",
              "  <tbody>\n",
              "    <tr>\n",
              "      <th>0</th>\n",
              "      <td>0</td>\n",
              "    </tr>\n",
              "    <tr>\n",
              "      <th>1</th>\n",
              "      <td>0</td>\n",
              "    </tr>\n",
              "    <tr>\n",
              "      <th>2</th>\n",
              "      <td>1</td>\n",
              "    </tr>\n",
              "    <tr>\n",
              "      <th>3</th>\n",
              "      <td>1</td>\n",
              "    </tr>\n",
              "    <tr>\n",
              "      <th>4</th>\n",
              "      <td>0</td>\n",
              "    </tr>\n",
              "  </tbody>\n",
              "</table>\n",
              "</div>\n",
              "      <button class=\"colab-df-convert\" onclick=\"convertToInteractive('df-156e0965-4465-4761-82d5-2c8b9596b9ae')\"\n",
              "              title=\"Convert this dataframe to an interactive table.\"\n",
              "              style=\"display:none;\">\n",
              "        \n",
              "  <svg xmlns=\"http://www.w3.org/2000/svg\" height=\"24px\"viewBox=\"0 0 24 24\"\n",
              "       width=\"24px\">\n",
              "    <path d=\"M0 0h24v24H0V0z\" fill=\"none\"/>\n",
              "    <path d=\"M18.56 5.44l.94 2.06.94-2.06 2.06-.94-2.06-.94-.94-2.06-.94 2.06-2.06.94zm-11 1L8.5 8.5l.94-2.06 2.06-.94-2.06-.94L8.5 2.5l-.94 2.06-2.06.94zm10 10l.94 2.06.94-2.06 2.06-.94-2.06-.94-.94-2.06-.94 2.06-2.06.94z\"/><path d=\"M17.41 7.96l-1.37-1.37c-.4-.4-.92-.59-1.43-.59-.52 0-1.04.2-1.43.59L10.3 9.45l-7.72 7.72c-.78.78-.78 2.05 0 2.83L4 21.41c.39.39.9.59 1.41.59.51 0 1.02-.2 1.41-.59l7.78-7.78 2.81-2.81c.8-.78.8-2.07 0-2.86zM5.41 20L4 18.59l7.72-7.72 1.47 1.35L5.41 20z\"/>\n",
              "  </svg>\n",
              "      </button>\n",
              "      \n",
              "  <style>\n",
              "    .colab-df-container {\n",
              "      display:flex;\n",
              "      flex-wrap:wrap;\n",
              "      gap: 12px;\n",
              "    }\n",
              "\n",
              "    .colab-df-convert {\n",
              "      background-color: #E8F0FE;\n",
              "      border: none;\n",
              "      border-radius: 50%;\n",
              "      cursor: pointer;\n",
              "      display: none;\n",
              "      fill: #1967D2;\n",
              "      height: 32px;\n",
              "      padding: 0 0 0 0;\n",
              "      width: 32px;\n",
              "    }\n",
              "\n",
              "    .colab-df-convert:hover {\n",
              "      background-color: #E2EBFA;\n",
              "      box-shadow: 0px 1px 2px rgba(60, 64, 67, 0.3), 0px 1px 3px 1px rgba(60, 64, 67, 0.15);\n",
              "      fill: #174EA6;\n",
              "    }\n",
              "\n",
              "    [theme=dark] .colab-df-convert {\n",
              "      background-color: #3B4455;\n",
              "      fill: #D2E3FC;\n",
              "    }\n",
              "\n",
              "    [theme=dark] .colab-df-convert:hover {\n",
              "      background-color: #434B5C;\n",
              "      box-shadow: 0px 1px 3px 1px rgba(0, 0, 0, 0.15);\n",
              "      filter: drop-shadow(0px 1px 2px rgba(0, 0, 0, 0.3));\n",
              "      fill: #FFFFFF;\n",
              "    }\n",
              "  </style>\n",
              "\n",
              "      <script>\n",
              "        const buttonEl =\n",
              "          document.querySelector('#df-156e0965-4465-4761-82d5-2c8b9596b9ae button.colab-df-convert');\n",
              "        buttonEl.style.display =\n",
              "          google.colab.kernel.accessAllowed ? 'block' : 'none';\n",
              "\n",
              "        async function convertToInteractive(key) {\n",
              "          const element = document.querySelector('#df-156e0965-4465-4761-82d5-2c8b9596b9ae');\n",
              "          const dataTable =\n",
              "            await google.colab.kernel.invokeFunction('convertToInteractive',\n",
              "                                                     [key], {});\n",
              "          if (!dataTable) return;\n",
              "\n",
              "          const docLinkHtml = 'Like what you see? Visit the ' +\n",
              "            '<a target=\"_blank\" href=https://colab.research.google.com/notebooks/data_table.ipynb>data table notebook</a>'\n",
              "            + ' to learn more about interactive tables.';\n",
              "          element.innerHTML = '';\n",
              "          dataTable['output_type'] = 'display_data';\n",
              "          await google.colab.output.renderOutput(dataTable, element);\n",
              "          const docLink = document.createElement('div');\n",
              "          docLink.innerHTML = docLinkHtml;\n",
              "          element.appendChild(docLink);\n",
              "        }\n",
              "      </script>\n",
              "    </div>\n",
              "  </div>\n",
              "  "
            ],
            "text/plain": [
              "   heart_disease_present\n",
              "0                      0\n",
              "1                      0\n",
              "2                      1\n",
              "3                      1\n",
              "4                      0"
            ]
          },
          "execution_count": 62,
          "metadata": {},
          "output_type": "execute_result"
        }
      ],
      "source": [
        "Y.head()"
      ]
    },
    {
      "cell_type": "code",
      "execution_count": null,
      "metadata": {
        "colab": {
          "base_uri": "https://localhost:8080/"
        },
        "id": "8Glm4YLR-_rG",
        "outputId": "41cae337-f9d8-4c7a-afb7-b308889b2f96"
      },
      "outputs": [
        {
          "data": {
            "text/plain": [
              "(180, 1)"
            ]
          },
          "execution_count": 63,
          "metadata": {},
          "output_type": "execute_result"
        }
      ],
      "source": [
        "Y.shape"
      ]
    },
    {
      "cell_type": "code",
      "execution_count": null,
      "metadata": {
        "id": "LYE15hQG6Ecu"
      },
      "outputs": [],
      "source": [
        "X_train,X_test,Y_train,Y_test = train_test_split(X,Y,random_state=1)"
      ]
    },
    {
      "cell_type": "code",
      "execution_count": null,
      "metadata": {
        "colab": {
          "base_uri": "https://localhost:8080/"
        },
        "id": "6EBcvW2c6mS1",
        "outputId": "4a24e9c6-819a-4b98-ecfa-472bad41ebc9"
      },
      "outputs": [
        {
          "data": {
            "text/plain": [
              "(135, 13)"
            ]
          },
          "execution_count": 65,
          "metadata": {},
          "output_type": "execute_result"
        }
      ],
      "source": [
        "X_train.shape"
      ]
    },
    {
      "cell_type": "code",
      "execution_count": null,
      "metadata": {
        "colab": {
          "base_uri": "https://localhost:8080/"
        },
        "id": "BcCVgqRI6qH2",
        "outputId": "27807ee3-8cd4-4638-eeaf-db4a9bfc2837"
      },
      "outputs": [
        {
          "data": {
            "text/plain": [
              "(135, 1)"
            ]
          },
          "execution_count": 66,
          "metadata": {},
          "output_type": "execute_result"
        }
      ],
      "source": [
        "Y_train.shape"
      ]
    },
    {
      "cell_type": "code",
      "execution_count": null,
      "metadata": {
        "colab": {
          "base_uri": "https://localhost:8080/"
        },
        "id": "mt37QYRl6unE",
        "outputId": "848e92cd-4450-45af-bd1b-0828419cef7e"
      },
      "outputs": [
        {
          "data": {
            "text/plain": [
              "(45, 13)"
            ]
          },
          "execution_count": 67,
          "metadata": {},
          "output_type": "execute_result"
        }
      ],
      "source": [
        "X_test.shape"
      ]
    },
    {
      "cell_type": "code",
      "execution_count": null,
      "metadata": {
        "colab": {
          "base_uri": "https://localhost:8080/"
        },
        "id": "6xRnReEk-n3A",
        "outputId": "75229f36-c8d9-42ff-dc9e-5e79eea21fa2"
      },
      "outputs": [
        {
          "data": {
            "text/plain": [
              "(45, 1)"
            ]
          },
          "execution_count": 68,
          "metadata": {},
          "output_type": "execute_result"
        }
      ],
      "source": [
        "Y_test.shape"
      ]
    },
    {
      "cell_type": "code",
      "execution_count": null,
      "metadata": {
        "id": "_Uw7WX4iBpvA"
      },
      "outputs": [],
      "source": [
        "from sklearn.linear_model import LinearRegression"
      ]
    },
    {
      "cell_type": "code",
      "execution_count": null,
      "metadata": {
        "id": "xeSCp8OIBB4M"
      },
      "outputs": [],
      "source": [
        "model_lr = LinearRegression()"
      ]
    },
    {
      "cell_type": "code",
      "execution_count": null,
      "metadata": {
        "colab": {
          "base_uri": "https://localhost:8080/"
        },
        "id": "B2fdgSVgBmjC",
        "outputId": "62de3f7d-3760-4a8a-cb2e-3bbbe2eb3948"
      },
      "outputs": [
        {
          "data": {
            "text/plain": [
              "LinearRegression()"
            ]
          },
          "execution_count": 71,
          "metadata": {},
          "output_type": "execute_result"
        }
      ],
      "source": [
        "model_lr.fit(X_train,Y_train)"
      ]
    },
    {
      "cell_type": "code",
      "execution_count": null,
      "metadata": {
        "id": "NDqCj3wzCFDD"
      },
      "outputs": [],
      "source": [
        "Y_predict = model_lr.predict(X_test)"
      ]
    },
    {
      "cell_type": "code",
      "execution_count": null,
      "metadata": {
        "colab": {
          "base_uri": "https://localhost:8080/",
          "height": 206
        },
        "id": "rL_o6KGMCVr6",
        "outputId": "0288acc7-dc0e-41f7-8cd4-0ca2d1a80766"
      },
      "outputs": [
        {
          "data": {
            "text/html": [
              "\n",
              "  <div id=\"df-bf91b2b9-4964-4e6b-8750-a971b8a80a70\">\n",
              "    <div class=\"colab-df-container\">\n",
              "      <div>\n",
              "<style scoped>\n",
              "    .dataframe tbody tr th:only-of-type {\n",
              "        vertical-align: middle;\n",
              "    }\n",
              "\n",
              "    .dataframe tbody tr th {\n",
              "        vertical-align: top;\n",
              "    }\n",
              "\n",
              "    .dataframe thead th {\n",
              "        text-align: right;\n",
              "    }\n",
              "</style>\n",
              "<table border=\"1\" class=\"dataframe\">\n",
              "  <thead>\n",
              "    <tr style=\"text-align: right;\">\n",
              "      <th></th>\n",
              "      <th>heart_disease_present</th>\n",
              "    </tr>\n",
              "  </thead>\n",
              "  <tbody>\n",
              "    <tr>\n",
              "      <th>116</th>\n",
              "      <td>0</td>\n",
              "    </tr>\n",
              "    <tr>\n",
              "      <th>112</th>\n",
              "      <td>1</td>\n",
              "    </tr>\n",
              "    <tr>\n",
              "      <th>99</th>\n",
              "      <td>0</td>\n",
              "    </tr>\n",
              "    <tr>\n",
              "      <th>161</th>\n",
              "      <td>1</td>\n",
              "    </tr>\n",
              "    <tr>\n",
              "      <th>35</th>\n",
              "      <td>0</td>\n",
              "    </tr>\n",
              "  </tbody>\n",
              "</table>\n",
              "</div>\n",
              "      <button class=\"colab-df-convert\" onclick=\"convertToInteractive('df-bf91b2b9-4964-4e6b-8750-a971b8a80a70')\"\n",
              "              title=\"Convert this dataframe to an interactive table.\"\n",
              "              style=\"display:none;\">\n",
              "        \n",
              "  <svg xmlns=\"http://www.w3.org/2000/svg\" height=\"24px\"viewBox=\"0 0 24 24\"\n",
              "       width=\"24px\">\n",
              "    <path d=\"M0 0h24v24H0V0z\" fill=\"none\"/>\n",
              "    <path d=\"M18.56 5.44l.94 2.06.94-2.06 2.06-.94-2.06-.94-.94-2.06-.94 2.06-2.06.94zm-11 1L8.5 8.5l.94-2.06 2.06-.94-2.06-.94L8.5 2.5l-.94 2.06-2.06.94zm10 10l.94 2.06.94-2.06 2.06-.94-2.06-.94-.94-2.06-.94 2.06-2.06.94z\"/><path d=\"M17.41 7.96l-1.37-1.37c-.4-.4-.92-.59-1.43-.59-.52 0-1.04.2-1.43.59L10.3 9.45l-7.72 7.72c-.78.78-.78 2.05 0 2.83L4 21.41c.39.39.9.59 1.41.59.51 0 1.02-.2 1.41-.59l7.78-7.78 2.81-2.81c.8-.78.8-2.07 0-2.86zM5.41 20L4 18.59l7.72-7.72 1.47 1.35L5.41 20z\"/>\n",
              "  </svg>\n",
              "      </button>\n",
              "      \n",
              "  <style>\n",
              "    .colab-df-container {\n",
              "      display:flex;\n",
              "      flex-wrap:wrap;\n",
              "      gap: 12px;\n",
              "    }\n",
              "\n",
              "    .colab-df-convert {\n",
              "      background-color: #E8F0FE;\n",
              "      border: none;\n",
              "      border-radius: 50%;\n",
              "      cursor: pointer;\n",
              "      display: none;\n",
              "      fill: #1967D2;\n",
              "      height: 32px;\n",
              "      padding: 0 0 0 0;\n",
              "      width: 32px;\n",
              "    }\n",
              "\n",
              "    .colab-df-convert:hover {\n",
              "      background-color: #E2EBFA;\n",
              "      box-shadow: 0px 1px 2px rgba(60, 64, 67, 0.3), 0px 1px 3px 1px rgba(60, 64, 67, 0.15);\n",
              "      fill: #174EA6;\n",
              "    }\n",
              "\n",
              "    [theme=dark] .colab-df-convert {\n",
              "      background-color: #3B4455;\n",
              "      fill: #D2E3FC;\n",
              "    }\n",
              "\n",
              "    [theme=dark] .colab-df-convert:hover {\n",
              "      background-color: #434B5C;\n",
              "      box-shadow: 0px 1px 3px 1px rgba(0, 0, 0, 0.15);\n",
              "      filter: drop-shadow(0px 1px 2px rgba(0, 0, 0, 0.3));\n",
              "      fill: #FFFFFF;\n",
              "    }\n",
              "  </style>\n",
              "\n",
              "      <script>\n",
              "        const buttonEl =\n",
              "          document.querySelector('#df-bf91b2b9-4964-4e6b-8750-a971b8a80a70 button.colab-df-convert');\n",
              "        buttonEl.style.display =\n",
              "          google.colab.kernel.accessAllowed ? 'block' : 'none';\n",
              "\n",
              "        async function convertToInteractive(key) {\n",
              "          const element = document.querySelector('#df-bf91b2b9-4964-4e6b-8750-a971b8a80a70');\n",
              "          const dataTable =\n",
              "            await google.colab.kernel.invokeFunction('convertToInteractive',\n",
              "                                                     [key], {});\n",
              "          if (!dataTable) return;\n",
              "\n",
              "          const docLinkHtml = 'Like what you see? Visit the ' +\n",
              "            '<a target=\"_blank\" href=https://colab.research.google.com/notebooks/data_table.ipynb>data table notebook</a>'\n",
              "            + ' to learn more about interactive tables.';\n",
              "          element.innerHTML = '';\n",
              "          dataTable['output_type'] = 'display_data';\n",
              "          await google.colab.output.renderOutput(dataTable, element);\n",
              "          const docLink = document.createElement('div');\n",
              "          docLink.innerHTML = docLinkHtml;\n",
              "          element.appendChild(docLink);\n",
              "        }\n",
              "      </script>\n",
              "    </div>\n",
              "  </div>\n",
              "  "
            ],
            "text/plain": [
              "     heart_disease_present\n",
              "116                      0\n",
              "112                      1\n",
              "99                       0\n",
              "161                      1\n",
              "35                       0"
            ]
          },
          "execution_count": 73,
          "metadata": {},
          "output_type": "execute_result"
        }
      ],
      "source": [
        "Y_test.head()"
      ]
    },
    {
      "cell_type": "code",
      "execution_count": null,
      "metadata": {
        "colab": {
          "base_uri": "https://localhost:8080/"
        },
        "id": "5w8nEYt2Czx8",
        "outputId": "b9a09147-541c-4748-e16b-49598ceacf9e"
      },
      "outputs": [
        {
          "data": {
            "text/plain": [
              "array([[ 0.16830292],\n",
              "       [ 1.50510205],\n",
              "       [-0.30969571],\n",
              "       [ 0.775346  ],\n",
              "       [ 0.20024065],\n",
              "       [-0.0247256 ],\n",
              "       [ 1.07593953],\n",
              "       [-0.00487688],\n",
              "       [ 0.98120626],\n",
              "       [ 0.50374839],\n",
              "       [ 0.52555742],\n",
              "       [ 1.01191979],\n",
              "       [ 0.32144612],\n",
              "       [ 0.43003981],\n",
              "       [ 0.77422778],\n",
              "       [ 1.25125002],\n",
              "       [ 0.54969637],\n",
              "       [ 0.15987039],\n",
              "       [ 0.30000742],\n",
              "       [ 0.44219343],\n",
              "       [ 0.18144232],\n",
              "       [-0.1109752 ],\n",
              "       [ 0.53365383],\n",
              "       [ 0.43423057],\n",
              "       [ 0.32180367],\n",
              "       [ 0.46473964],\n",
              "       [ 0.73567499],\n",
              "       [ 1.10560407],\n",
              "       [ 1.16323195],\n",
              "       [ 0.92596131],\n",
              "       [-0.0848728 ],\n",
              "       [-0.05415778],\n",
              "       [ 1.04985565],\n",
              "       [ 0.56278109],\n",
              "       [ 0.26266819],\n",
              "       [ 0.56430909],\n",
              "       [ 0.44031605],\n",
              "       [ 0.21055285],\n",
              "       [-0.02066168],\n",
              "       [ 0.42419094],\n",
              "       [ 0.31657044],\n",
              "       [-0.05392738],\n",
              "       [ 0.12825691],\n",
              "       [ 1.03499899],\n",
              "       [ 0.73043567]])"
            ]
          },
          "execution_count": 74,
          "metadata": {},
          "output_type": "execute_result"
        }
      ],
      "source": [
        "Y_predict"
      ]
    },
    {
      "cell_type": "code",
      "execution_count": null,
      "metadata": {
        "id": "PMJwBKaHC8KB"
      },
      "outputs": [],
      "source": [
        "from sklearn.metrics import r2_score"
      ]
    },
    {
      "cell_type": "code",
      "execution_count": null,
      "metadata": {
        "colab": {
          "base_uri": "https://localhost:8080/"
        },
        "id": "hHE5X3ktDO9Z",
        "outputId": "4f53ab0f-cf1c-4cc9-f21c-96c08c409a4a"
      },
      "outputs": [
        {
          "data": {
            "text/plain": [
              "0.19430041958753108"
            ]
          },
          "execution_count": 76,
          "metadata": {},
          "output_type": "execute_result"
        }
      ],
      "source": [
        "r2_score(Y_test,Y_predict)"
      ]
    },
    {
      "cell_type": "markdown",
      "metadata": {
        "id": "NfWKbW2pbjls"
      },
      "source": [
        "Binary prediction classification using **logistic reggression :**\n",
        "  \n",
        "  *  heart_disease_present is binary dependent or target variable \n",
        "  *  Below we assigned **heart_disease_present.yn(yes/no)** as patient with dheart disease or not"
      ]
    },
    {
      "cell_type": "code",
      "execution_count": null,
      "metadata": {
        "colab": {
          "base_uri": "https://localhost:8080/",
          "height": 501
        },
        "id": "IVnhMEVClidH",
        "outputId": "fa277031-3df3-4d78-8f9d-64834d845601"
      },
      "outputs": [
        {
          "ename": "KeyError",
          "evalue": "ignored",
          "output_type": "error",
          "traceback": [
            "\u001b[0;31m---------------------------------------------------------------------------\u001b[0m",
            "\u001b[0;31mKeyError\u001b[0m                                  Traceback (most recent call last)",
            "\u001b[0;32m/usr/local/lib/python3.7/dist-packages/pandas/core/indexes/base.py\u001b[0m in \u001b[0;36mget_loc\u001b[0;34m(self, key, method, tolerance)\u001b[0m\n\u001b[1;32m   3360\u001b[0m             \u001b[0;32mtry\u001b[0m\u001b[0;34m:\u001b[0m\u001b[0;34m\u001b[0m\u001b[0;34m\u001b[0m\u001b[0m\n\u001b[0;32m-> 3361\u001b[0;31m                 \u001b[0;32mreturn\u001b[0m \u001b[0mself\u001b[0m\u001b[0;34m.\u001b[0m\u001b[0m_engine\u001b[0m\u001b[0;34m.\u001b[0m\u001b[0mget_loc\u001b[0m\u001b[0;34m(\u001b[0m\u001b[0mcasted_key\u001b[0m\u001b[0;34m)\u001b[0m\u001b[0;34m\u001b[0m\u001b[0;34m\u001b[0m\u001b[0m\n\u001b[0m\u001b[1;32m   3362\u001b[0m             \u001b[0;32mexcept\u001b[0m \u001b[0mKeyError\u001b[0m \u001b[0;32mas\u001b[0m \u001b[0merr\u001b[0m\u001b[0;34m:\u001b[0m\u001b[0;34m\u001b[0m\u001b[0;34m\u001b[0m\u001b[0m\n",
            "\u001b[0;32m/usr/local/lib/python3.7/dist-packages/pandas/_libs/index.pyx\u001b[0m in \u001b[0;36mpandas._libs.index.IndexEngine.get_loc\u001b[0;34m()\u001b[0m\n",
            "\u001b[0;32m/usr/local/lib/python3.7/dist-packages/pandas/_libs/index.pyx\u001b[0m in \u001b[0;36mpandas._libs.index.IndexEngine.get_loc\u001b[0;34m()\u001b[0m\n",
            "\u001b[0;32mpandas/_libs/hashtable_class_helper.pxi\u001b[0m in \u001b[0;36mpandas._libs.hashtable.PyObjectHashTable.get_item\u001b[0;34m()\u001b[0m\n",
            "\u001b[0;32mpandas/_libs/hashtable_class_helper.pxi\u001b[0m in \u001b[0;36mpandas._libs.hashtable.PyObjectHashTable.get_item\u001b[0;34m()\u001b[0m\n",
            "\u001b[0;31mKeyError\u001b[0m: ('fasting_blood_sugar_gt_120_mg_per_dl', 'sex', 'exercise_induced_angina')",
            "\nThe above exception was the direct cause of the following exception:\n",
            "\u001b[0;31mKeyError\u001b[0m                                  Traceback (most recent call last)",
            "\u001b[0;32m<ipython-input-147-7f41e6da7bec>\u001b[0m in \u001b[0;36m<module>\u001b[0;34m\u001b[0m\n\u001b[0;32m----> 1\u001b[0;31m X= np.asarray(df[\"fasting_blood_sugar_gt_120_mg_per_dl\",\n\u001b[0m\u001b[1;32m      2\u001b[0m \"sex\",\"exercise_induced_angina\"])\n\u001b[1;32m      3\u001b[0m \u001b[0mY\u001b[0m\u001b[0;34m=\u001b[0m\u001b[0mnp\u001b[0m\u001b[0;34m.\u001b[0m\u001b[0masarray\u001b[0m\u001b[0;34m(\u001b[0m\u001b[0mdf\u001b[0m\u001b[0;34m[\u001b[0m\u001b[0;34m\"heart_disease_present\"\u001b[0m\u001b[0;34m]\u001b[0m\u001b[0;34m)\u001b[0m\u001b[0;34m\u001b[0m\u001b[0;34m\u001b[0m\u001b[0m\n\u001b[1;32m      4\u001b[0m \u001b[0mX\u001b[0m\u001b[0;34m=\u001b[0m \u001b[0mpreprocessing\u001b[0m\u001b[0;34m.\u001b[0m\u001b[0mstandardScaler\u001b[0m\u001b[0;34m(\u001b[0m\u001b[0;34m)\u001b[0m\u001b[0;34m.\u001b[0m\u001b[0mfit\u001b[0m\u001b[0;34m(\u001b[0m\u001b[0mX\u001b[0m\u001b[0;34m)\u001b[0m\u001b[0;34m.\u001b[0m\u001b[0mtransform\u001b[0m\u001b[0;34m(\u001b[0m\u001b[0mX\u001b[0m\u001b[0;34m)\u001b[0m\u001b[0;34m\u001b[0m\u001b[0;34m\u001b[0m\u001b[0m\n",
            "\u001b[0;32m/usr/local/lib/python3.7/dist-packages/pandas/core/frame.py\u001b[0m in \u001b[0;36m__getitem__\u001b[0;34m(self, key)\u001b[0m\n\u001b[1;32m   3456\u001b[0m             \u001b[0;32mif\u001b[0m \u001b[0mself\u001b[0m\u001b[0;34m.\u001b[0m\u001b[0mcolumns\u001b[0m\u001b[0;34m.\u001b[0m\u001b[0mnlevels\u001b[0m \u001b[0;34m>\u001b[0m \u001b[0;36m1\u001b[0m\u001b[0;34m:\u001b[0m\u001b[0;34m\u001b[0m\u001b[0;34m\u001b[0m\u001b[0m\n\u001b[1;32m   3457\u001b[0m                 \u001b[0;32mreturn\u001b[0m \u001b[0mself\u001b[0m\u001b[0;34m.\u001b[0m\u001b[0m_getitem_multilevel\u001b[0m\u001b[0;34m(\u001b[0m\u001b[0mkey\u001b[0m\u001b[0;34m)\u001b[0m\u001b[0;34m\u001b[0m\u001b[0;34m\u001b[0m\u001b[0m\n\u001b[0;32m-> 3458\u001b[0;31m             \u001b[0mindexer\u001b[0m \u001b[0;34m=\u001b[0m \u001b[0mself\u001b[0m\u001b[0;34m.\u001b[0m\u001b[0mcolumns\u001b[0m\u001b[0;34m.\u001b[0m\u001b[0mget_loc\u001b[0m\u001b[0;34m(\u001b[0m\u001b[0mkey\u001b[0m\u001b[0;34m)\u001b[0m\u001b[0;34m\u001b[0m\u001b[0;34m\u001b[0m\u001b[0m\n\u001b[0m\u001b[1;32m   3459\u001b[0m             \u001b[0;32mif\u001b[0m \u001b[0mis_integer\u001b[0m\u001b[0;34m(\u001b[0m\u001b[0mindexer\u001b[0m\u001b[0;34m)\u001b[0m\u001b[0;34m:\u001b[0m\u001b[0;34m\u001b[0m\u001b[0;34m\u001b[0m\u001b[0m\n\u001b[1;32m   3460\u001b[0m                 \u001b[0mindexer\u001b[0m \u001b[0;34m=\u001b[0m \u001b[0;34m[\u001b[0m\u001b[0mindexer\u001b[0m\u001b[0;34m]\u001b[0m\u001b[0;34m\u001b[0m\u001b[0;34m\u001b[0m\u001b[0m\n",
            "\u001b[0;32m/usr/local/lib/python3.7/dist-packages/pandas/core/indexes/base.py\u001b[0m in \u001b[0;36mget_loc\u001b[0;34m(self, key, method, tolerance)\u001b[0m\n\u001b[1;32m   3361\u001b[0m                 \u001b[0;32mreturn\u001b[0m \u001b[0mself\u001b[0m\u001b[0;34m.\u001b[0m\u001b[0m_engine\u001b[0m\u001b[0;34m.\u001b[0m\u001b[0mget_loc\u001b[0m\u001b[0;34m(\u001b[0m\u001b[0mcasted_key\u001b[0m\u001b[0;34m)\u001b[0m\u001b[0;34m\u001b[0m\u001b[0;34m\u001b[0m\u001b[0m\n\u001b[1;32m   3362\u001b[0m             \u001b[0;32mexcept\u001b[0m \u001b[0mKeyError\u001b[0m \u001b[0;32mas\u001b[0m \u001b[0merr\u001b[0m\u001b[0;34m:\u001b[0m\u001b[0;34m\u001b[0m\u001b[0;34m\u001b[0m\u001b[0m\n\u001b[0;32m-> 3363\u001b[0;31m                 \u001b[0;32mraise\u001b[0m \u001b[0mKeyError\u001b[0m\u001b[0;34m(\u001b[0m\u001b[0mkey\u001b[0m\u001b[0;34m)\u001b[0m \u001b[0;32mfrom\u001b[0m \u001b[0merr\u001b[0m\u001b[0;34m\u001b[0m\u001b[0;34m\u001b[0m\u001b[0m\n\u001b[0m\u001b[1;32m   3364\u001b[0m \u001b[0;34m\u001b[0m\u001b[0m\n\u001b[1;32m   3365\u001b[0m         \u001b[0;32mif\u001b[0m \u001b[0mis_scalar\u001b[0m\u001b[0;34m(\u001b[0m\u001b[0mkey\u001b[0m\u001b[0;34m)\u001b[0m \u001b[0;32mand\u001b[0m \u001b[0misna\u001b[0m\u001b[0;34m(\u001b[0m\u001b[0mkey\u001b[0m\u001b[0;34m)\u001b[0m \u001b[0;32mand\u001b[0m \u001b[0;32mnot\u001b[0m \u001b[0mself\u001b[0m\u001b[0;34m.\u001b[0m\u001b[0mhasnans\u001b[0m\u001b[0;34m:\u001b[0m\u001b[0;34m\u001b[0m\u001b[0;34m\u001b[0m\u001b[0m\n",
            "\u001b[0;31mKeyError\u001b[0m: ('fasting_blood_sugar_gt_120_mg_per_dl', 'sex', 'exercise_induced_angina')"
          ]
        }
      ],
      "source": [
        "X= np.asarray(df[\"fasting_blood_sugar_gt_120_mg_per_dl\",\n",
        "\"sex\",\"exercise_induced_angina\"])\n",
        "Y=np.asarray(df[\"heart_disease_present\"])\n",
        "X= preprocessing.standardScaler().fit(X).transform(X)\n"
      ]
    },
    {
      "cell_type": "code",
      "execution_count": null,
      "metadata": {
        "id": "DsYqjQhSlFsv"
      },
      "outputs": [],
      "source": [
        "from sklearn.model_selection import train_test_split"
      ]
    },
    {
      "cell_type": "code",
      "execution_count": null,
      "metadata": {
        "colab": {
          "base_uri": "https://localhost:8080/",
          "height": 265
        },
        "id": "hCP6AoJ5jte4",
        "outputId": "6b0b4f32-c7a5-4d03-b531-3b33365f8487"
      },
      "outputs": [
        {
          "data": {
            "image/png": "[encoded data removed]",
            "text/plain": [
              "<Figure size 432x288 with 1 Axes>"
            ]
          },
          "metadata": {},
          "output_type": "display_data"
        }
      ],
      "source": [
        "heart_disease = df[\"heart_disease_present\"].plot()\n",
        "plt.show(heart_disease)"
      ]
    },
    {
      "cell_type": "code",
      "execution_count": null,
      "metadata": {
        "colab": {
          "base_uri": "https://localhost:8080/",
          "height": 200
        },
        "id": "OvrMhaIdD3gx",
        "outputId": "ab50f83e-ee9c-473e-fd17-b8d4a0680e77"
      },
      "outputs": [
        {
          "ename": "NameError",
          "evalue": "ignored",
          "output_type": "error",
          "traceback": [
            "\u001b[0;31m---------------------------------------------------------------------------\u001b[0m",
            "\u001b[0;31mNameError\u001b[0m                                 Traceback (most recent call last)",
            "\u001b[0;32m<ipython-input-2-e11bd23bd9b3>\u001b[0m in \u001b[0;36m<module>\u001b[0;34m\u001b[0m\n\u001b[0;32m----> 1\u001b[0;31m \u001b[0mY\u001b[0m \u001b[0;34m=\u001b[0m \u001b[0mdf\u001b[0m\u001b[0;34m.\u001b[0m\u001b[0mloc\u001b[0m\u001b[0;34m[\u001b[0m\u001b[0;34m:\u001b[0m\u001b[0;34m,\u001b[0m\u001b[0;34m[\u001b[0m\u001b[0;34m\"heart_disease_present\"\u001b[0m\u001b[0;34m]\u001b[0m\u001b[0;34m]\u001b[0m\u001b[0;34m\u001b[0m\u001b[0;34m\u001b[0m\u001b[0m\n\u001b[0m\u001b[1;32m      2\u001b[0m X = df.loc[:,[\"fasting_blood_sugar_gt_120_mg_per_dl\",\n\u001b[1;32m      3\u001b[0m \"sex\",\"exercise_induced_angina\"]]\n",
            "\u001b[0;31mNameError\u001b[0m: name 'df' is not defined"
          ]
        }
      ],
      "source": [
        "Y = df.loc[:,[\"heart_disease_present\"]]\n",
        "X = df.loc[:,[\"fasting_blood_sugar_gt_120_mg_per_dl\",\n",
        "\"sex\",\"exercise_induced_angina\"]]"
      ]
    },
    {
      "cell_type": "code",
      "execution_count": null,
      "metadata": {
        "id": "5P1HQHFhescZ"
      },
      "outputs": [],
      "source": [
        "model_logr = LogisticRegression()"
      ]
    },
    {
      "cell_type": "code",
      "execution_count": null,
      "metadata": {
        "id": "zPBPiCZCfZkP"
      },
      "outputs": [],
      "source": [
        "X_train,X_test,y_train,Y_test =train_test_split (X,Y,test_size=0.3,random_state=4)"
      ]
    },
    {
      "cell_type": "code",
      "execution_count": null,
      "metadata": {
        "colab": {
          "base_uri": "https://localhost:8080/"
        },
        "id": "yO9BnnA7gIs6",
        "outputId": "77e3662f-627d-4374-a604-eefc1454518b"
      },
      "outputs": [
        {
          "data": {
            "text/plain": [
              "(126, 3)"
            ]
          },
          "execution_count": 142,
          "metadata": {},
          "output_type": "execute_result"
        }
      ],
      "source": [
        "X_train.shape"
      ]
    },
    {
      "cell_type": "code",
      "execution_count": null,
      "metadata": {
        "colab": {
          "base_uri": "https://localhost:8080/"
        },
        "id": "dydN4ch9gfnY",
        "outputId": "706aa208-b986-4735-e373-b16dc7bb948a"
      },
      "outputs": [
        {
          "data": {
            "text/plain": [
              "(135, 1)"
            ]
          },
          "execution_count": 143,
          "metadata": {},
          "output_type": "execute_result"
        }
      ],
      "source": [
        "Y_train.shape"
      ]
    },
    {
      "cell_type": "code",
      "execution_count": null,
      "metadata": {
        "colab": {
          "base_uri": "https://localhost:8080/"
        },
        "id": "KaMih9LagkQ5",
        "outputId": "de5065d1-8c4b-4c54-a646-896e850af7a8"
      },
      "outputs": [
        {
          "data": {
            "text/plain": [
              "(54, 3)"
            ]
          },
          "execution_count": 144,
          "metadata": {},
          "output_type": "execute_result"
        }
      ],
      "source": [
        "X_test.shape"
      ]
    },
    {
      "cell_type": "code",
      "execution_count": null,
      "metadata": {
        "colab": {
          "base_uri": "https://localhost:8080/"
        },
        "id": "iGD_Ryj6gxER",
        "outputId": "d803b448-e81c-448b-ff03-3b053543c130"
      },
      "outputs": [
        {
          "data": {
            "text/plain": [
              "(54, 1)"
            ]
          },
          "execution_count": 145,
          "metadata": {},
          "output_type": "execute_result"
        }
      ],
      "source": [
        "Y_test.shape"
      ]
    },
    {
      "cell_type": "code",
      "execution_count": null,
      "metadata": {
        "colab": {
          "base_uri": "https://localhost:8080/",
          "height": 165
        },
        "id": "MabGo1kpgCL9",
        "outputId": "7785f905-61c1-4abf-d9ec-5e15a3cc630e"
      },
      "outputs": [
        {
          "ename": "NameError",
          "evalue": "ignored",
          "output_type": "error",
          "traceback": [
            "\u001b[0;31m---------------------------------------------------------------------------\u001b[0m",
            "\u001b[0;31mNameError\u001b[0m                                 Traceback (most recent call last)",
            "\u001b[0;32m<ipython-input-1-50dccc07d312>\u001b[0m in \u001b[0;36m<module>\u001b[0;34m\u001b[0m\n\u001b[0;32m----> 1\u001b[0;31m \u001b[0mY_test\u001b[0m\u001b[0;34m.\u001b[0m\u001b[0mhead\u001b[0m\u001b[0;34m(\u001b[0m\u001b[0;34m)\u001b[0m\u001b[0;34m\u001b[0m\u001b[0;34m\u001b[0m\u001b[0m\n\u001b[0m",
            "\u001b[0;31mNameError\u001b[0m: name 'Y_test' is not defined"
          ]
        }
      ],
      "source": [
        "Y_test.head()"
      ]
    },
    {
      "cell_type": "code",
      "execution_count": null,
      "metadata": {
        "colab": {
          "base_uri": "https://localhost:8080/",
          "height": 311
        },
        "id": "3Pa6U_Y4g24x",
        "outputId": "155e508b-e6a4-44f1-ffe9-891b8f4117da"
      },
      "outputs": [
        {
          "ename": "ValueError",
          "evalue": "ignored",
          "output_type": "error",
          "traceback": [
            "\u001b[0;31m---------------------------------------------------------------------------\u001b[0m",
            "\u001b[0;31mValueError\u001b[0m                                Traceback (most recent call last)",
            "\u001b[0;32m<ipython-input-146-f1f3216a8516>\u001b[0m in \u001b[0;36m<module>\u001b[0;34m\u001b[0m\n\u001b[0;32m----> 1\u001b[0;31m \u001b[0mmodel_logr\u001b[0m\u001b[0;34m.\u001b[0m\u001b[0mfit\u001b[0m\u001b[0;34m(\u001b[0m\u001b[0mX_train\u001b[0m\u001b[0;34m,\u001b[0m\u001b[0mY_train\u001b[0m\u001b[0;34m)\u001b[0m\u001b[0;34m\u001b[0m\u001b[0;34m\u001b[0m\u001b[0m\n\u001b[0m",
            "\u001b[0;32m/usr/local/lib/python3.7/dist-packages/sklearn/linear_model/_logistic.py\u001b[0m in \u001b[0;36mfit\u001b[0;34m(self, X, y, sample_weight)\u001b[0m\n\u001b[1;32m   1512\u001b[0m             \u001b[0mdtype\u001b[0m\u001b[0;34m=\u001b[0m\u001b[0m_dtype\u001b[0m\u001b[0;34m,\u001b[0m\u001b[0;34m\u001b[0m\u001b[0;34m\u001b[0m\u001b[0m\n\u001b[1;32m   1513\u001b[0m             \u001b[0morder\u001b[0m\u001b[0;34m=\u001b[0m\u001b[0;34m\"C\"\u001b[0m\u001b[0;34m,\u001b[0m\u001b[0;34m\u001b[0m\u001b[0;34m\u001b[0m\u001b[0m\n\u001b[0;32m-> 1514\u001b[0;31m             \u001b[0maccept_large_sparse\u001b[0m\u001b[0;34m=\u001b[0m\u001b[0msolver\u001b[0m \u001b[0;32mnot\u001b[0m \u001b[0;32min\u001b[0m \u001b[0;34m[\u001b[0m\u001b[0;34m\"liblinear\"\u001b[0m\u001b[0;34m,\u001b[0m \u001b[0;34m\"sag\"\u001b[0m\u001b[0;34m,\u001b[0m \u001b[0;34m\"saga\"\u001b[0m\u001b[0;34m]\u001b[0m\u001b[0;34m,\u001b[0m\u001b[0;34m\u001b[0m\u001b[0;34m\u001b[0m\u001b[0m\n\u001b[0m\u001b[1;32m   1515\u001b[0m         )\n\u001b[1;32m   1516\u001b[0m         \u001b[0mcheck_classification_targets\u001b[0m\u001b[0;34m(\u001b[0m\u001b[0my\u001b[0m\u001b[0;34m)\u001b[0m\u001b[0;34m\u001b[0m\u001b[0;34m\u001b[0m\u001b[0m\n",
            "\u001b[0;32m/usr/local/lib/python3.7/dist-packages/sklearn/base.py\u001b[0m in \u001b[0;36m_validate_data\u001b[0;34m(self, X, y, reset, validate_separately, **check_params)\u001b[0m\n\u001b[1;32m    579\u001b[0m                 \u001b[0my\u001b[0m \u001b[0;34m=\u001b[0m \u001b[0mcheck_array\u001b[0m\u001b[0;34m(\u001b[0m\u001b[0my\u001b[0m\u001b[0;34m,\u001b[0m \u001b[0;34m**\u001b[0m\u001b[0mcheck_y_params\u001b[0m\u001b[0;34m)\u001b[0m\u001b[0;34m\u001b[0m\u001b[0;34m\u001b[0m\u001b[0m\n\u001b[1;32m    580\u001b[0m             \u001b[0;32melse\u001b[0m\u001b[0;34m:\u001b[0m\u001b[0;34m\u001b[0m\u001b[0;34m\u001b[0m\u001b[0m\n\u001b[0;32m--> 581\u001b[0;31m                 \u001b[0mX\u001b[0m\u001b[0;34m,\u001b[0m \u001b[0my\u001b[0m \u001b[0;34m=\u001b[0m \u001b[0mcheck_X_y\u001b[0m\u001b[0;34m(\u001b[0m\u001b[0mX\u001b[0m\u001b[0;34m,\u001b[0m \u001b[0my\u001b[0m\u001b[0;34m,\u001b[0m \u001b[0;34m**\u001b[0m\u001b[0mcheck_params\u001b[0m\u001b[0;34m)\u001b[0m\u001b[0;34m\u001b[0m\u001b[0;34m\u001b[0m\u001b[0m\n\u001b[0m\u001b[1;32m    582\u001b[0m             \u001b[0mout\u001b[0m \u001b[0;34m=\u001b[0m \u001b[0mX\u001b[0m\u001b[0;34m,\u001b[0m \u001b[0my\u001b[0m\u001b[0;34m\u001b[0m\u001b[0;34m\u001b[0m\u001b[0m\n\u001b[1;32m    583\u001b[0m \u001b[0;34m\u001b[0m\u001b[0m\n",
            "\u001b[0;32m/usr/local/lib/python3.7/dist-packages/sklearn/utils/validation.py\u001b[0m in \u001b[0;36mcheck_X_y\u001b[0;34m(X, y, accept_sparse, accept_large_sparse, dtype, order, copy, force_all_finite, ensure_2d, allow_nd, multi_output, ensure_min_samples, ensure_min_features, y_numeric, estimator)\u001b[0m\n\u001b[1;32m    979\u001b[0m     \u001b[0my\u001b[0m \u001b[0;34m=\u001b[0m \u001b[0m_check_y\u001b[0m\u001b[0;34m(\u001b[0m\u001b[0my\u001b[0m\u001b[0;34m,\u001b[0m \u001b[0mmulti_output\u001b[0m\u001b[0;34m=\u001b[0m\u001b[0mmulti_output\u001b[0m\u001b[0;34m,\u001b[0m \u001b[0my_numeric\u001b[0m\u001b[0;34m=\u001b[0m\u001b[0my_numeric\u001b[0m\u001b[0;34m)\u001b[0m\u001b[0;34m\u001b[0m\u001b[0;34m\u001b[0m\u001b[0m\n\u001b[1;32m    980\u001b[0m \u001b[0;34m\u001b[0m\u001b[0m\n\u001b[0;32m--> 981\u001b[0;31m     \u001b[0mcheck_consistent_length\u001b[0m\u001b[0;34m(\u001b[0m\u001b[0mX\u001b[0m\u001b[0;34m,\u001b[0m \u001b[0my\u001b[0m\u001b[0;34m)\u001b[0m\u001b[0;34m\u001b[0m\u001b[0;34m\u001b[0m\u001b[0m\n\u001b[0m\u001b[1;32m    982\u001b[0m \u001b[0;34m\u001b[0m\u001b[0m\n\u001b[1;32m    983\u001b[0m     \u001b[0;32mreturn\u001b[0m \u001b[0mX\u001b[0m\u001b[0;34m,\u001b[0m \u001b[0my\u001b[0m\u001b[0;34m\u001b[0m\u001b[0;34m\u001b[0m\u001b[0m\n",
            "\u001b[0;32m/usr/local/lib/python3.7/dist-packages/sklearn/utils/validation.py\u001b[0m in \u001b[0;36mcheck_consistent_length\u001b[0;34m(*arrays)\u001b[0m\n\u001b[1;32m    332\u001b[0m         raise ValueError(\n\u001b[1;32m    333\u001b[0m             \u001b[0;34m\"Found input variables with inconsistent numbers of samples: %r\"\u001b[0m\u001b[0;34m\u001b[0m\u001b[0;34m\u001b[0m\u001b[0m\n\u001b[0;32m--> 334\u001b[0;31m             \u001b[0;34m%\u001b[0m \u001b[0;34m[\u001b[0m\u001b[0mint\u001b[0m\u001b[0;34m(\u001b[0m\u001b[0ml\u001b[0m\u001b[0;34m)\u001b[0m \u001b[0;32mfor\u001b[0m \u001b[0ml\u001b[0m \u001b[0;32min\u001b[0m \u001b[0mlengths\u001b[0m\u001b[0;34m]\u001b[0m\u001b[0;34m\u001b[0m\u001b[0;34m\u001b[0m\u001b[0m\n\u001b[0m\u001b[1;32m    335\u001b[0m         )\n\u001b[1;32m    336\u001b[0m \u001b[0;34m\u001b[0m\u001b[0m\n",
            "\u001b[0;31mValueError\u001b[0m: Found input variables with inconsistent numbers of samples: [126, 135]"
          ]
        }
      ],
      "source": [
        "model_logr.fit(X_train,Y_train)"
      ]
    },
    {
      "cell_type": "code",
      "execution_count": null,
      "metadata": {
        "id": "zYZY-4DmhYKR"
      },
      "outputs": [],
      "source": []
    }
  ],
  "metadata": {
    "colab": {
      "collapsed_sections": [],
      "provenance": [],
      "include_colab_link": true
    },
    "kernelspec": {
      "display_name": "Python 3",
      "name": "python3"
    },
    "language_info": {
      "name": "python"
    }
  },
  "nbformat": 4,
  "nbformat_minor": 0
}